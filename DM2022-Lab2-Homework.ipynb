{
 "cells": [
  {
   "cell_type": "markdown",
   "id": "c9332f76",
   "metadata": {},
   "source": [
    "### Student Information\n",
    "Name: 黃粲育\n",
    "\n",
    "Student ID: 110164511\n",
    "\n",
    "GitHub ID: gardra\n",
    "\n",
    "Kaggle name: O口O (Gardra)\n",
    "\n",
    "Kaggle private scoreboard snapshot:\n",
    "\n",
    "[Snapshot](img/pic0.png)"
   ]
  },
  {
   "cell_type": "markdown",
   "id": "9de1aa0d",
   "metadata": {},
   "source": [
    "### Instructions"
   ]
  },
  {
   "cell_type": "markdown",
   "id": "1ae5d121",
   "metadata": {},
   "source": [
    "1. First: __This part is worth 30% of your grade.__ Do the **take home** exercises in the [DM2022-Lab2-master Repo](https://github.com/keziatamus/DM2022-Lab2-Master). You may need to copy some cells from the Lab notebook to this notebook. \n",
    "\n",
    "\n",
    "2. Second: __This part is worth 30% of your grade.__ Participate in the in-class [Kaggle Competition](https://www.kaggle.com/competitions/dm2022-isa5810-lab2-homework) regarding Emotion Recognition on Twitter by this link https://www.kaggle.com/t/2b0d14a829f340bc88d2660dc602d4bd. The scoring will be given according to your place in the Private Leaderboard ranking: \n",
    "    - **Bottom 40%**: Get 20% of the 30% available for this section.\n",
    "\n",
    "    - **Top 41% - 100%**: Get (60-x)/6 + 20 points, where x is your ranking in the leaderboard (ie. If you rank 3rd your score will be (60-3)/6 + 20 = 29.5% out of 30%)   \n",
    "    Submit your last submission __BEFORE the deadline (Nov. 22th 11:59 pm, Tuesday)_. Make sure to take a screenshot of your position at the end of the competition and store it as '''pic0.png''' under the **img** folder of this repository and rerun the cell **Student Information**.\n",
    "    \n",
    "\n",
    "3. Third: __This part is worth 30% of your grade.__ A report of your work developping the model for the competition (You can use code and comment it). This report should include what your preprocessing steps, the feature engineering steps and an explanation of your model. You can also mention different things you tried and insights you gained. \n",
    "\n",
    "\n",
    "4. Fourth: __This part is worth 10% of your grade.__ It's hard for us to follow if your code is messy :'(, so please **tidy up your notebook** and **add minimal comments where needed**.\n",
    "\n",
    "\n",
    "Upload your files to your repository then submit the link to it on the corresponding e-learn assignment.\n",
    "\n",
    "Make sure to commit and save your changes to your repository __BEFORE the deadline (Nov. 25th 11:59 pm, Friday)__. "
   ]
  },
  {
   "cell_type": "code",
   "execution_count": null,
   "id": "3ccd7e40",
   "metadata": {},
   "outputs": [],
   "source": []
  },
  {
   "cell_type": "markdown",
   "id": "d9b6cf37",
   "metadata": {},
   "source": [
    "#　Step 1,  preprocessing "
   ]
  },
  {
   "cell_type": "markdown",
   "id": "e8ea76e8",
   "metadata": {},
   "source": [
    "    In this step, I find that tweet is the most important features, so I get them from tweets_DM.json. Because I want to use transformer to do this homework, so I use AutoTokenizer from transformers libary. The tokenizer can auto tokenize the sentence and then convert into input format of the model. \n",
    "\n",
    "    The tokenizer of \"vinai/bertweet-base\" model has one paramter \"normalization\", it will nomalize the string, ex: convert emotion to sting, convert @someone to @USER .....　Because I think it can make the performance of the model Better, I set it to True. "
   ]
  },
  {
   "cell_type": "code",
   "execution_count": 1,
   "id": "c769f30d",
   "metadata": {
    "_cell_guid": "b1076dfc-b9ad-4769-8c92-a6c4dae69d19",
    "_uuid": "8f2839f25d086af736a60e9eeb907d3b93b6e0e5",
    "execution": {
     "iopub.execute_input": "2022-11-22T21:49:27.569759Z",
     "iopub.status.busy": "2022-11-22T21:49:27.569303Z",
     "iopub.status.idle": "2022-11-22T21:49:57.846393Z",
     "shell.execute_reply": "2022-11-22T21:49:57.845380Z"
    },
    "papermill": {
     "duration": 30.292722,
     "end_time": "2022-11-22T21:49:57.849166",
     "exception": false,
     "start_time": "2022-11-22T21:49:27.556444",
     "status": "completed"
    },
    "tags": []
   },
   "outputs": [
    {
     "name": "stdout",
     "output_type": "stream",
     "text": [
      "/kaggle/input/encodeofdata/train_enc.pickle\n",
      "/kaggle/input/encodeofdata/pred_enc.pickle\n",
      "/kaggle/input/dm2022-isa5810-lab2-homework/tweets_DM.json\n",
      "/kaggle/input/dm2022-isa5810-lab2-homework/sampleSubmission.csv\n",
      "/kaggle/input/dm2022-isa5810-lab2-homework/data_identification.csv\n",
      "/kaggle/input/dm2022-isa5810-lab2-homework/emotion.csv\n"
     ]
    }
   ],
   "source": [
    "# This Python 3 environment comes with many helpful analytics libraries installed\n",
    "# It is defined by the kaggle/python Docker image: https://github.com/kaggle/docker-python\n",
    "# For example, here's several helpful packages to load\n",
    "\n",
    "import numpy as np # linear algebra\n",
    "import pandas as pd # data processing, CSV file I/O (e.g. pd.read_csv)\n",
    "\n",
    "# Input data files are available in the read-only \"../input/\" directory\n",
    "# For example, running this (by clicking run or pressing Shift+Enter) will list all files under the input directory\n",
    "\n",
    "import os\n",
    "for dirname, _, filenames in os.walk('/kaggle/input'):\n",
    "    for filename in filenames:\n",
    "        print(os.path.join(dirname, filename))\n",
    "\n",
    "# You can write up to 20GB to the current directory (/kaggle/working/) that gets preserved as output when you create a version using \"Save & Run All\" \n",
    "# You can also write temporary files to /kaggle/temp/, but they won't be saved outside of the current session\n",
    "sample_sub = pd.read_csv(\"/kaggle/input/dm2022-isa5810-lab2-homework/sampleSubmission.csv\")\n",
    "\n",
    "data_ident = pd.read_csv(\"/kaggle/input/dm2022-isa5810-lab2-homework/data_identification.csv\")\n",
    "label = pd.read_csv(\"/kaggle/input/dm2022-isa5810-lab2-homework/emotion.csv\")\n",
    "import json\n",
    "tweets = []\n",
    "with open(\"/kaggle/input/dm2022-isa5810-lab2-homework/tweets_DM.json\", encoding='utf-8') as f :\n",
    "    for line in f.readlines():\n",
    "        tweets.append(json.loads(line))"
   ]
  },
  {
   "cell_type": "code",
   "execution_count": 2,
   "id": "6cf2d741",
   "metadata": {
    "execution": {
     "iopub.execute_input": "2022-11-22T21:49:57.872051Z",
     "iopub.status.busy": "2022-11-22T21:49:57.871704Z",
     "iopub.status.idle": "2022-11-22T21:50:00.785937Z",
     "shell.execute_reply": "2022-11-22T21:50:00.784828Z"
    },
    "papermill": {
     "duration": 2.928989,
     "end_time": "2022-11-22T21:50:00.788569",
     "exception": false,
     "start_time": "2022-11-22T21:49:57.859580",
     "status": "completed"
    },
    "tags": []
   },
   "outputs": [
    {
     "name": "stderr",
     "output_type": "stream",
     "text": [
      "\u001b[34m\u001b[1mwandb\u001b[0m: W&B API key is configured. Use \u001b[1m`wandb login --relogin`\u001b[0m to force relogin\n",
      "\u001b[34m\u001b[1mwandb\u001b[0m: \u001b[33mWARNING\u001b[0m If you're specifying your api key in code, ensure this code is not shared publicly.\n",
      "\u001b[34m\u001b[1mwandb\u001b[0m: \u001b[33mWARNING\u001b[0m Consider setting the WANDB_API_KEY environment variable, or running `wandb login` from the command line.\n",
      "\u001b[34m\u001b[1mwandb\u001b[0m: Appending key for api.wandb.ai to your netrc file: /root/.netrc\n"
     ]
    }
   ],
   "source": [
    "import wandb\n",
    "\n",
    "try:\n",
    "    from kaggle_secrets import UserSecretsClient\n",
    "    user_secrets = UserSecretsClient()\n",
    "\n",
    "    wandb.login(key=\"79a90f31e7b3e3989e6eefdf648c598f1c1d762a\")\n",
    "    anony = None\n",
    "except:\n",
    "    anony = \"must\"\n",
    "    print('If you want to use your W&B account, go to Add-ons -> Secrets and provide your W&B access token. Use the Label name as wandb_api. \\nGet your W&B access token from here: https://wandb.ai/authorize')"
   ]
  },
  {
   "cell_type": "code",
   "execution_count": 3,
   "id": "080cd132",
   "metadata": {
    "execution": {
     "iopub.execute_input": "2022-11-22T21:50:00.809538Z",
     "iopub.status.busy": "2022-11-22T21:50:00.809223Z",
     "iopub.status.idle": "2022-11-22T21:50:00.815006Z",
     "shell.execute_reply": "2022-11-22T21:50:00.814181Z"
    },
    "papermill": {
     "duration": 0.018652,
     "end_time": "2022-11-22T21:50:00.817098",
     "exception": false,
     "start_time": "2022-11-22T21:50:00.798446",
     "status": "completed"
    },
    "tags": []
   },
   "outputs": [],
   "source": [
    "datas = {\"tweet_id\":[], \"text\":[]}"
   ]
  },
  {
   "cell_type": "code",
   "execution_count": 4,
   "id": "da181a39",
   "metadata": {
    "execution": {
     "iopub.execute_input": "2022-11-22T21:50:00.837385Z",
     "iopub.status.busy": "2022-11-22T21:50:00.837113Z",
     "iopub.status.idle": "2022-11-22T21:50:03.016403Z",
     "shell.execute_reply": "2022-11-22T21:50:03.015361Z"
    },
    "papermill": {
     "duration": 2.192189,
     "end_time": "2022-11-22T21:50:03.018931",
     "exception": false,
     "start_time": "2022-11-22T21:50:00.826742",
     "status": "completed"
    },
    "tags": []
   },
   "outputs": [],
   "source": [
    "for i in tweets:\n",
    "    datas['tweet_id'].append(i['_source']['tweet']['tweet_id'])\n",
    "    datas['text'].append(i['_source']['tweet']['text'])\n",
    "    "
   ]
  },
  {
   "cell_type": "code",
   "execution_count": 5,
   "id": "cea260f9",
   "metadata": {
    "execution": {
     "iopub.execute_input": "2022-11-22T21:50:03.041661Z",
     "iopub.status.busy": "2022-11-22T21:50:03.040645Z",
     "iopub.status.idle": "2022-11-22T21:50:03.873366Z",
     "shell.execute_reply": "2022-11-22T21:50:03.872250Z"
    },
    "papermill": {
     "duration": 0.847688,
     "end_time": "2022-11-22T21:50:03.876744",
     "exception": false,
     "start_time": "2022-11-22T21:50:03.029056",
     "status": "completed"
    },
    "tags": []
   },
   "outputs": [],
   "source": [
    "datas = pd.DataFrame(datas)"
   ]
  },
  {
   "cell_type": "code",
   "execution_count": 6,
   "id": "7e4b1598",
   "metadata": {
    "execution": {
     "iopub.execute_input": "2022-11-22T21:50:03.913265Z",
     "iopub.status.busy": "2022-11-22T21:50:03.912979Z",
     "iopub.status.idle": "2022-11-22T21:50:03.932097Z",
     "shell.execute_reply": "2022-11-22T21:50:03.931111Z"
    },
    "papermill": {
     "duration": 0.037783,
     "end_time": "2022-11-22T21:50:03.934680",
     "exception": false,
     "start_time": "2022-11-22T21:50:03.896897",
     "status": "completed"
    },
    "tags": []
   },
   "outputs": [
    {
     "data": {
      "text/html": [
       "<div>\n",
       "<style scoped>\n",
       "    .dataframe tbody tr th:only-of-type {\n",
       "        vertical-align: middle;\n",
       "    }\n",
       "\n",
       "    .dataframe tbody tr th {\n",
       "        vertical-align: top;\n",
       "    }\n",
       "\n",
       "    .dataframe thead th {\n",
       "        text-align: right;\n",
       "    }\n",
       "</style>\n",
       "<table border=\"1\" class=\"dataframe\">\n",
       "  <thead>\n",
       "    <tr style=\"text-align: right;\">\n",
       "      <th></th>\n",
       "      <th>tweet_id</th>\n",
       "      <th>text</th>\n",
       "    </tr>\n",
       "  </thead>\n",
       "  <tbody>\n",
       "    <tr>\n",
       "      <th>0</th>\n",
       "      <td>0x376b20</td>\n",
       "      <td>People who post \"add me on #Snapchat\" must be ...</td>\n",
       "    </tr>\n",
       "    <tr>\n",
       "      <th>1</th>\n",
       "      <td>0x2d5350</td>\n",
       "      <td>@brianklaas As we see, Trump is dangerous to #...</td>\n",
       "    </tr>\n",
       "    <tr>\n",
       "      <th>2</th>\n",
       "      <td>0x28b412</td>\n",
       "      <td>Confident of your obedience, I write to you, k...</td>\n",
       "    </tr>\n",
       "    <tr>\n",
       "      <th>3</th>\n",
       "      <td>0x1cd5b0</td>\n",
       "      <td>Now ISSA is stalking Tasha 😂😂😂 &lt;LH&gt;</td>\n",
       "    </tr>\n",
       "    <tr>\n",
       "      <th>4</th>\n",
       "      <td>0x2de201</td>\n",
       "      <td>\"Trust is not the same as faith. A friend is s...</td>\n",
       "    </tr>\n",
       "    <tr>\n",
       "      <th>...</th>\n",
       "      <td>...</td>\n",
       "      <td>...</td>\n",
       "    </tr>\n",
       "    <tr>\n",
       "      <th>1867530</th>\n",
       "      <td>0x316b80</td>\n",
       "      <td>When you buy the last 2 tickets remaining for ...</td>\n",
       "    </tr>\n",
       "    <tr>\n",
       "      <th>1867531</th>\n",
       "      <td>0x29d0cb</td>\n",
       "      <td>I swear all this hard work gone pay off one da...</td>\n",
       "    </tr>\n",
       "    <tr>\n",
       "      <th>1867532</th>\n",
       "      <td>0x2a6a4f</td>\n",
       "      <td>@Parcel2Go no card left when I wasn't in so I ...</td>\n",
       "    </tr>\n",
       "    <tr>\n",
       "      <th>1867533</th>\n",
       "      <td>0x24faed</td>\n",
       "      <td>Ah, corporate life, where you can date &lt;LH&gt; us...</td>\n",
       "    </tr>\n",
       "    <tr>\n",
       "      <th>1867534</th>\n",
       "      <td>0x34be8c</td>\n",
       "      <td>Blessed to be living #Sundayvibes &lt;LH&gt;</td>\n",
       "    </tr>\n",
       "  </tbody>\n",
       "</table>\n",
       "<p>1867535 rows × 2 columns</p>\n",
       "</div>"
      ],
      "text/plain": [
       "         tweet_id                                               text\n",
       "0        0x376b20  People who post \"add me on #Snapchat\" must be ...\n",
       "1        0x2d5350  @brianklaas As we see, Trump is dangerous to #...\n",
       "2        0x28b412  Confident of your obedience, I write to you, k...\n",
       "3        0x1cd5b0                Now ISSA is stalking Tasha 😂😂😂 <LH>\n",
       "4        0x2de201  \"Trust is not the same as faith. A friend is s...\n",
       "...           ...                                                ...\n",
       "1867530  0x316b80  When you buy the last 2 tickets remaining for ...\n",
       "1867531  0x29d0cb  I swear all this hard work gone pay off one da...\n",
       "1867532  0x2a6a4f  @Parcel2Go no card left when I wasn't in so I ...\n",
       "1867533  0x24faed  Ah, corporate life, where you can date <LH> us...\n",
       "1867534  0x34be8c             Blessed to be living #Sundayvibes <LH>\n",
       "\n",
       "[1867535 rows x 2 columns]"
      ]
     },
     "execution_count": 6,
     "metadata": {},
     "output_type": "execute_result"
    }
   ],
   "source": [
    "datas"
   ]
  },
  {
   "cell_type": "code",
   "execution_count": 7,
   "id": "1050f72c",
   "metadata": {
    "execution": {
     "iopub.execute_input": "2022-11-22T21:50:03.955699Z",
     "iopub.status.busy": "2022-11-22T21:50:03.955438Z",
     "iopub.status.idle": "2022-11-22T21:50:09.578006Z",
     "shell.execute_reply": "2022-11-22T21:50:09.576941Z"
    },
    "papermill": {
     "duration": 5.636168,
     "end_time": "2022-11-22T21:50:09.580692",
     "exception": false,
     "start_time": "2022-11-22T21:50:03.944524",
     "status": "completed"
    },
    "tags": []
   },
   "outputs": [],
   "source": [
    "all_data = datas.merge(data_ident, how=\"left\", on='tweet_id')\n",
    "\n",
    "all_data = all_data.merge(label, how=\"left\", on='tweet_id')"
   ]
  },
  {
   "cell_type": "code",
   "execution_count": 8,
   "id": "36bb33f7",
   "metadata": {
    "execution": {
     "iopub.execute_input": "2022-11-22T21:50:09.602491Z",
     "iopub.status.busy": "2022-11-22T21:50:09.602192Z",
     "iopub.status.idle": "2022-11-22T21:50:11.796722Z",
     "shell.execute_reply": "2022-11-22T21:50:11.795769Z"
    },
    "papermill": {
     "duration": 2.208883,
     "end_time": "2022-11-22T21:50:11.799638",
     "exception": false,
     "start_time": "2022-11-22T21:50:09.590755",
     "status": "completed"
    },
    "tags": []
   },
   "outputs": [],
   "source": [
    "import emoji\n",
    "\n",
    "from sklearn.model_selection import train_test_split\n",
    "\n",
    "import torch "
   ]
  },
  {
   "cell_type": "code",
   "execution_count": 9,
   "id": "25ffcf61",
   "metadata": {
    "execution": {
     "iopub.execute_input": "2022-11-22T21:50:11.821410Z",
     "iopub.status.busy": "2022-11-22T21:50:11.820885Z",
     "iopub.status.idle": "2022-11-22T21:50:12.232853Z",
     "shell.execute_reply": "2022-11-22T21:50:12.231927Z"
    },
    "papermill": {
     "duration": 0.425306,
     "end_time": "2022-11-22T21:50:12.235185",
     "exception": false,
     "start_time": "2022-11-22T21:50:11.809879",
     "status": "completed"
    },
    "tags": []
   },
   "outputs": [],
   "source": [
    "\n",
    "from transformers import AutoModel, AutoTokenizer\n"
   ]
  },
  {
   "cell_type": "code",
   "execution_count": 10,
   "id": "2858f1c1",
   "metadata": {
    "execution": {
     "iopub.execute_input": "2022-11-22T21:50:12.257096Z",
     "iopub.status.busy": "2022-11-22T21:50:12.256254Z",
     "iopub.status.idle": "2022-11-22T21:50:12.261196Z",
     "shell.execute_reply": "2022-11-22T21:50:12.260337Z"
    },
    "papermill": {
     "duration": 0.017664,
     "end_time": "2022-11-22T21:50:12.262998",
     "exception": false,
     "start_time": "2022-11-22T21:50:12.245334",
     "status": "completed"
    },
    "tags": []
   },
   "outputs": [],
   "source": [
    "MODEL =\"vinai/bertweet-base\""
   ]
  },
  {
   "cell_type": "code",
   "execution_count": 11,
   "id": "852ade83",
   "metadata": {
    "execution": {
     "iopub.execute_input": "2022-11-22T21:50:12.285030Z",
     "iopub.status.busy": "2022-11-22T21:50:12.284223Z",
     "iopub.status.idle": "2022-11-22T21:50:12.288863Z",
     "shell.execute_reply": "2022-11-22T21:50:12.288060Z"
    },
    "papermill": {
     "duration": 0.018114,
     "end_time": "2022-11-22T21:50:12.290886",
     "exception": false,
     "start_time": "2022-11-22T21:50:12.272772",
     "status": "completed"
    },
    "tags": []
   },
   "outputs": [],
   "source": [
    "MODEL =\"vinai/bertweet-base\""
   ]
  },
  {
   "cell_type": "code",
   "execution_count": 12,
   "id": "fb30afd5",
   "metadata": {
    "execution": {
     "iopub.execute_input": "2022-11-22T21:50:12.312995Z",
     "iopub.status.busy": "2022-11-22T21:50:12.311576Z",
     "iopub.status.idle": "2022-11-22T21:50:16.542284Z",
     "shell.execute_reply": "2022-11-22T21:50:16.541161Z"
    },
    "papermill": {
     "duration": 4.244179,
     "end_time": "2022-11-22T21:50:16.544962",
     "exception": false,
     "start_time": "2022-11-22T21:50:12.300783",
     "status": "completed"
    },
    "tags": []
   },
   "outputs": [],
   "source": [
    "from transformers import AutoModelForSequenceClassification, TrainingArguments, Trainer\n"
   ]
  },
  {
   "cell_type": "code",
   "execution_count": 13,
   "id": "402f5503",
   "metadata": {
    "execution": {
     "iopub.execute_input": "2022-11-22T21:50:16.576283Z",
     "iopub.status.busy": "2022-11-22T21:50:16.575355Z",
     "iopub.status.idle": "2022-11-22T21:50:22.881704Z",
     "shell.execute_reply": "2022-11-22T21:50:22.880571Z"
    },
    "papermill": {
     "duration": 6.324419,
     "end_time": "2022-11-22T21:50:22.884370",
     "exception": false,
     "start_time": "2022-11-22T21:50:16.559951",
     "status": "completed"
    },
    "scrolled": true,
    "tags": []
   },
   "outputs": [
    {
     "data": {
      "application/vnd.jupyter.widget-view+json": {
       "model_id": "acb6ec63fc764a328c1c9526c7ed32fd",
       "version_major": 2,
       "version_minor": 0
      },
      "text/plain": [
       "Downloading:   0%|          | 0.00/558 [00:00<?, ?B/s]"
      ]
     },
     "metadata": {},
     "output_type": "display_data"
    },
    {
     "data": {
      "application/vnd.jupyter.widget-view+json": {
       "model_id": "2fffd39c8e4b4adb8b17b5b77318645c",
       "version_major": 2,
       "version_minor": 0
      },
      "text/plain": [
       "Downloading:   0%|          | 0.00/824k [00:00<?, ?B/s]"
      ]
     },
     "metadata": {},
     "output_type": "display_data"
    },
    {
     "data": {
      "application/vnd.jupyter.widget-view+json": {
       "model_id": "440bde8d69be4c2e84b9ab9c95a64aaa",
       "version_major": 2,
       "version_minor": 0
      },
      "text/plain": [
       "Downloading:   0%|          | 0.00/1.03M [00:00<?, ?B/s]"
      ]
     },
     "metadata": {},
     "output_type": "display_data"
    },
    {
     "name": "stderr",
     "output_type": "stream",
     "text": [
      "Special tokens have been added in the vocabulary, make sure the associated word embeddings are fine-tuned or trained.\n"
     ]
    }
   ],
   "source": [
    "tokenizer = AutoTokenizer.from_pretrained(MODEL, truncation=True, normalization=True)\n"
   ]
  },
  {
   "cell_type": "code",
   "execution_count": 14,
   "id": "0bc32dab",
   "metadata": {
    "execution": {
     "iopub.execute_input": "2022-11-22T21:50:22.906692Z",
     "iopub.status.busy": "2022-11-22T21:50:22.906398Z",
     "iopub.status.idle": "2022-11-22T21:50:22.916000Z",
     "shell.execute_reply": "2022-11-22T21:50:22.914971Z"
    },
    "papermill": {
     "duration": 0.022948,
     "end_time": "2022-11-22T21:50:22.918057",
     "exception": false,
     "start_time": "2022-11-22T21:50:22.895109",
     "status": "completed"
    },
    "tags": []
   },
   "outputs": [
    {
     "data": {
      "text/plain": [
       "'@brianklaas As we see, Trump is dangerous to #freepress around the world. What a <LH> <LH> #TrumpLegacy.  #CNN'"
      ]
     },
     "execution_count": 14,
     "metadata": {},
     "output_type": "execute_result"
    }
   ],
   "source": [
    "all_data.text[1]"
   ]
  },
  {
   "cell_type": "code",
   "execution_count": 15,
   "id": "7cc4427b",
   "metadata": {
    "execution": {
     "iopub.execute_input": "2022-11-22T21:50:22.939971Z",
     "iopub.status.busy": "2022-11-22T21:50:22.939194Z",
     "iopub.status.idle": "2022-11-22T21:50:23.771223Z",
     "shell.execute_reply": "2022-11-22T21:50:23.770216Z"
    },
    "papermill": {
     "duration": 0.845622,
     "end_time": "2022-11-22T21:50:23.773820",
     "exception": false,
     "start_time": "2022-11-22T21:50:22.928198",
     "status": "completed"
    },
    "tags": []
   },
   "outputs": [],
   "source": [
    "pred_x = all_data.loc[all_data.identification=='test']\n",
    "train_x = all_data.loc[all_data.identification=='train']\n",
    "train_y = train_x.emotion"
   ]
  },
  {
   "cell_type": "code",
   "execution_count": 16,
   "id": "3cfcff48",
   "metadata": {
    "execution": {
     "iopub.execute_input": "2022-11-22T21:50:23.797308Z",
     "iopub.status.busy": "2022-11-22T21:50:23.795711Z",
     "iopub.status.idle": "2022-11-22T21:50:23.801493Z",
     "shell.execute_reply": "2022-11-22T21:50:23.800653Z"
    },
    "papermill": {
     "duration": 0.019002,
     "end_time": "2022-11-22T21:50:23.803447",
     "exception": false,
     "start_time": "2022-11-22T21:50:23.784445",
     "status": "completed"
    },
    "tags": []
   },
   "outputs": [],
   "source": [
    "from sklearn.preprocessing import LabelEncoder"
   ]
  },
  {
   "cell_type": "code",
   "execution_count": null,
   "id": "b6c6309c",
   "metadata": {
    "papermill": {
     "duration": 0.009941,
     "end_time": "2022-11-22T21:50:23.823486",
     "exception": false,
     "start_time": "2022-11-22T21:50:23.813545",
     "status": "completed"
    },
    "tags": []
   },
   "outputs": [],
   "source": []
  },
  {
   "cell_type": "code",
   "execution_count": 17,
   "id": "674d93ce",
   "metadata": {
    "execution": {
     "iopub.execute_input": "2022-11-22T21:50:23.845055Z",
     "iopub.status.busy": "2022-11-22T21:50:23.844510Z",
     "iopub.status.idle": "2022-11-22T21:50:23.848678Z",
     "shell.execute_reply": "2022-11-22T21:50:23.847758Z"
    },
    "papermill": {
     "duration": 0.017117,
     "end_time": "2022-11-22T21:50:23.850731",
     "exception": false,
     "start_time": "2022-11-22T21:50:23.833614",
     "status": "completed"
    },
    "tags": []
   },
   "outputs": [],
   "source": [
    "labels = ['anticipation', 'sadness', 'fear', 'joy', 'anger', 'trust',\n",
    "       'disgust', 'surprise']"
   ]
  },
  {
   "cell_type": "code",
   "execution_count": 18,
   "id": "150fa158",
   "metadata": {
    "execution": {
     "iopub.execute_input": "2022-11-22T21:50:23.873050Z",
     "iopub.status.busy": "2022-11-22T21:50:23.872780Z",
     "iopub.status.idle": "2022-11-22T21:50:23.876361Z",
     "shell.execute_reply": "2022-11-22T21:50:23.875419Z"
    },
    "papermill": {
     "duration": 0.017163,
     "end_time": "2022-11-22T21:50:23.878416",
     "exception": false,
     "start_time": "2022-11-22T21:50:23.861253",
     "status": "completed"
    },
    "tags": []
   },
   "outputs": [],
   "source": [
    "le = LabelEncoder()"
   ]
  },
  {
   "cell_type": "code",
   "execution_count": 19,
   "id": "acf1bf16",
   "metadata": {
    "execution": {
     "iopub.execute_input": "2022-11-22T21:50:23.900134Z",
     "iopub.status.busy": "2022-11-22T21:50:23.899542Z",
     "iopub.status.idle": "2022-11-22T21:50:23.911270Z",
     "shell.execute_reply": "2022-11-22T21:50:23.910349Z"
    },
    "papermill": {
     "duration": 0.024865,
     "end_time": "2022-11-22T21:50:23.913262",
     "exception": false,
     "start_time": "2022-11-22T21:50:23.888397",
     "status": "completed"
    },
    "scrolled": true,
    "tags": []
   },
   "outputs": [
    {
     "data": {
      "text/plain": [
       "LabelEncoder()"
      ]
     },
     "execution_count": 19,
     "metadata": {},
     "output_type": "execute_result"
    }
   ],
   "source": [
    "le.fit(labels)"
   ]
  },
  {
   "cell_type": "code",
   "execution_count": 20,
   "id": "e9d2f36b",
   "metadata": {
    "execution": {
     "iopub.execute_input": "2022-11-22T21:50:23.939070Z",
     "iopub.status.busy": "2022-11-22T21:50:23.938172Z",
     "iopub.status.idle": "2022-11-22T21:50:24.242156Z",
     "shell.execute_reply": "2022-11-22T21:50:24.241228Z"
    },
    "papermill": {
     "duration": 0.318822,
     "end_time": "2022-11-22T21:50:24.244391",
     "exception": false,
     "start_time": "2022-11-22T21:50:23.925569",
     "status": "completed"
    },
    "tags": []
   },
   "outputs": [],
   "source": [
    "train_y = le.transform(train_y)"
   ]
  },
  {
   "cell_type": "code",
   "execution_count": 21,
   "id": "b2d86380",
   "metadata": {
    "execution": {
     "iopub.execute_input": "2022-11-22T21:50:24.266612Z",
     "iopub.status.busy": "2022-11-22T21:50:24.266332Z",
     "iopub.status.idle": "2022-11-22T21:57:30.229795Z",
     "shell.execute_reply": "2022-11-22T21:57:30.228792Z"
    },
    "papermill": {
     "duration": 425.977468,
     "end_time": "2022-11-22T21:57:30.232528",
     "exception": false,
     "start_time": "2022-11-22T21:50:24.255060",
     "status": "completed"
    },
    "tags": []
   },
   "outputs": [
    {
     "name": "stderr",
     "output_type": "stream",
     "text": [
      "Token indices sequence length is longer than the specified maximum sequence length for this model (130 > 128). Running this sequence through the model will result in indexing errors\n"
     ]
    }
   ],
   "source": [
    "train_enc = tokenizer(train_x.text.to_list())"
   ]
  },
  {
   "cell_type": "code",
   "execution_count": 22,
   "id": "185b242e",
   "metadata": {
    "execution": {
     "iopub.execute_input": "2022-11-22T21:57:30.254955Z",
     "iopub.status.busy": "2022-11-22T21:57:30.254641Z",
     "iopub.status.idle": "2022-11-22T21:59:36.083941Z",
     "shell.execute_reply": "2022-11-22T21:59:36.082958Z"
    },
    "papermill": {
     "duration": 125.843217,
     "end_time": "2022-11-22T21:59:36.086535",
     "exception": false,
     "start_time": "2022-11-22T21:57:30.243318",
     "status": "completed"
    },
    "tags": []
   },
   "outputs": [],
   "source": [
    "pred_enc = tokenizer(pred_x.text.to_list())"
   ]
  },
  {
   "cell_type": "code",
   "execution_count": 23,
   "id": "1702def3",
   "metadata": {
    "execution": {
     "iopub.execute_input": "2022-11-22T21:59:36.111034Z",
     "iopub.status.busy": "2022-11-22T21:59:36.110084Z",
     "iopub.status.idle": "2022-11-22T21:59:36.115009Z",
     "shell.execute_reply": "2022-11-22T21:59:36.114072Z"
    },
    "papermill": {
     "duration": 0.018716,
     "end_time": "2022-11-22T21:59:36.116973",
     "exception": false,
     "start_time": "2022-11-22T21:59:36.098257",
     "status": "completed"
    },
    "tags": []
   },
   "outputs": [],
   "source": [
    "import pickle"
   ]
  },
  {
   "cell_type": "code",
   "execution_count": 26,
   "id": "23ffa38a",
   "metadata": {
    "execution": {
     "iopub.execute_input": "2022-11-22T21:59:36.194975Z",
     "iopub.status.busy": "2022-11-22T21:59:36.194219Z",
     "iopub.status.idle": "2022-11-22T21:59:36.200859Z",
     "shell.execute_reply": "2022-11-22T21:59:36.199958Z"
    },
    "papermill": {
     "duration": 0.019641,
     "end_time": "2022-11-22T21:59:36.202813",
     "exception": false,
     "start_time": "2022-11-22T21:59:36.183172",
     "status": "completed"
    },
    "scrolled": true,
    "tags": []
   },
   "outputs": [
    {
     "data": {
      "text/plain": [
       "{'input_ids': [0, 22292, 2], 'token_type_ids': [0, 0, 0], 'attention_mask': [1, 1, 1]}"
      ]
     },
     "execution_count": 26,
     "metadata": {},
     "output_type": "execute_result"
    }
   ],
   "source": [
    "tokenizer('AAAA')"
   ]
  },
  {
   "cell_type": "code",
   "execution_count": 2,
   "id": "f0cae8de",
   "metadata": {},
   "outputs": [],
   "source": [
    "#truncate the features "
   ]
  },
  {
   "cell_type": "code",
   "execution_count": 27,
   "id": "9e260447",
   "metadata": {
    "execution": {
     "iopub.execute_input": "2022-11-22T21:59:36.225262Z",
     "iopub.status.busy": "2022-11-22T21:59:36.224533Z",
     "iopub.status.idle": "2022-11-22T21:59:36.476575Z",
     "shell.execute_reply": "2022-11-22T21:59:36.475631Z"
    },
    "papermill": {
     "duration": 0.266019,
     "end_time": "2022-11-22T21:59:36.479209",
     "exception": false,
     "start_time": "2022-11-22T21:59:36.213190",
     "status": "completed"
    },
    "tags": []
   },
   "outputs": [],
   "source": [
    "for i in range(len(pred_enc['input_ids'])):\n",
    "    if(len(pred_enc['input_ids'][i])>128):\n",
    "        pred_enc['input_ids'][i] = pred_enc['input_ids'][i][:128]\n",
    "        pred_enc['token_type_ids'][i] = pred_enc['token_type_ids'][i][:128]\n",
    "        pred_enc['attention_mask'][i] = pred_enc['attention_mask'][i][:128]\n",
    "    "
   ]
  },
  {
   "cell_type": "code",
   "execution_count": 28,
   "id": "b0e80725",
   "metadata": {
    "execution": {
     "iopub.execute_input": "2022-11-22T21:59:36.503985Z",
     "iopub.status.busy": "2022-11-22T21:59:36.502270Z",
     "iopub.status.idle": "2022-11-22T21:59:37.390183Z",
     "shell.execute_reply": "2022-11-22T21:59:37.389081Z"
    },
    "papermill": {
     "duration": 0.902896,
     "end_time": "2022-11-22T21:59:37.392972",
     "exception": false,
     "start_time": "2022-11-22T21:59:36.490076",
     "status": "completed"
    },
    "tags": []
   },
   "outputs": [
    {
     "name": "stdout",
     "output_type": "stream",
     "text": [
      "1\n",
      "1\n",
      "1\n",
      "1\n",
      "1\n",
      "1\n",
      "1\n",
      "1\n",
      "1\n",
      "1\n",
      "1\n"
     ]
    }
   ],
   "source": [
    "for i in range(len(train_enc['input_ids'])):\n",
    "    if(len(train_enc['input_ids'][i])>128):\n",
    "        train_enc['input_ids'][i] = train_enc['input_ids'][i][:128]\n",
    "        train_enc['token_type_ids'][i] = train_enc['token_type_ids'][i][:128]\n",
    "        train_enc['attention_mask'][i] = train_enc['attention_mask'][i][:128]\n",
    "       "
   ]
  },
  {
   "cell_type": "code",
   "execution_count": 29,
   "id": "0c5a0e34",
   "metadata": {
    "execution": {
     "iopub.execute_input": "2022-11-22T21:59:37.416026Z",
     "iopub.status.busy": "2022-11-22T21:59:37.415698Z",
     "iopub.status.idle": "2022-11-22T21:59:37.422726Z",
     "shell.execute_reply": "2022-11-22T21:59:37.421876Z"
    },
    "papermill": {
     "duration": 0.020602,
     "end_time": "2022-11-22T21:59:37.424808",
     "exception": false,
     "start_time": "2022-11-22T21:59:37.404206",
     "status": "completed"
    },
    "tags": []
   },
   "outputs": [],
   "source": [
    "class Dataset(torch.utils.data.Dataset):\n",
    "    def __init__(self, encodings, labels):\n",
    "        self.encodings = encodings\n",
    "        self.labels = labels\n",
    "\n",
    "    def __getitem__(self, idx):\n",
    "        item = {key: torch.tensor(val[idx]) for key, val in self.encodings.items()}\n",
    "        item['labels'] = torch.tensor(self.labels[idx])\n",
    "        return item\n",
    "\n",
    "    def __len__(self):\n",
    "        return len(self.labels)"
   ]
  },
  {
   "cell_type": "markdown",
   "id": "db3b0835",
   "metadata": {
    "execution": {
     "iopub.execute_input": "2022-11-22T21:59:37.447673Z",
     "iopub.status.busy": "2022-11-22T21:59:37.446938Z",
     "iopub.status.idle": "2022-11-22T21:59:37.451195Z",
     "shell.execute_reply": "2022-11-22T21:59:37.450384Z"
    },
    "papermill": {
     "duration": 0.017836,
     "end_time": "2022-11-22T21:59:37.453126",
     "exception": false,
     "start_time": "2022-11-22T21:59:37.435290",
     "status": "completed"
    },
    "tags": []
   },
   "source": [
    "# Step 2,　Choose and Fine Tune the model "
   ]
  },
  {
   "cell_type": "markdown",
   "id": "1f19f53f",
   "metadata": {
    "papermill": {
     "duration": 0.010334,
     "end_time": "2022-11-22T21:59:37.474559",
     "exception": false,
     "start_time": "2022-11-22T21:59:37.464225",
     "status": "completed"
    },
    "tags": []
   },
   "source": [
    "    In this step, I find there are a lot of different transformer models. They use different dataset to train the model. Finally I find bertweet model. It use the tweet to train the model. The performace of bertweet is better than other bert models, so I choose it and then fine tune it. \n",
    "        \n",
    "    According to resarch of the bert, the best epoch of fine tune is 2 ~ 4 , learning rates from 2e-5 ot 5e-5, batch sizes  are 16, 32 , 64, 128. I choose the epoch to 4, learning rate to 2e-5, batch size to 16. Then, fine tune the model.\n",
    "        \n",
    "    Beause the data is too large and I don't have too much compute reources, I skip the validation step to reduce the time of using GPU.  \n"
   ]
  },
  {
   "cell_type": "code",
   "execution_count": 31,
   "id": "1b5f6377",
   "metadata": {
    "execution": {
     "iopub.execute_input": "2022-11-22T21:59:37.497174Z",
     "iopub.status.busy": "2022-11-22T21:59:37.496891Z",
     "iopub.status.idle": "2022-11-22T21:59:55.926189Z",
     "shell.execute_reply": "2022-11-22T21:59:55.925131Z"
    },
    "papermill": {
     "duration": 18.443675,
     "end_time": "2022-11-22T21:59:55.928938",
     "exception": false,
     "start_time": "2022-11-22T21:59:37.485263",
     "status": "completed"
    },
    "tags": []
   },
   "outputs": [
    {
     "data": {
      "application/vnd.jupyter.widget-view+json": {
       "model_id": "7adb60b076ba4634b503a54f35652840",
       "version_major": 2,
       "version_minor": 0
      },
      "text/plain": [
       "Downloading:   0%|          | 0.00/517M [00:00<?, ?B/s]"
      ]
     },
     "metadata": {},
     "output_type": "display_data"
    },
    {
     "name": "stderr",
     "output_type": "stream",
     "text": [
      "Some weights of the model checkpoint at vinai/bertweet-base were not used when initializing RobertaForSequenceClassification: ['lm_head.dense.bias', 'lm_head.layer_norm.bias', 'lm_head.bias', 'lm_head.layer_norm.weight', 'lm_head.decoder.weight', 'lm_head.dense.weight', 'lm_head.decoder.bias', 'roberta.pooler.dense.bias', 'roberta.pooler.dense.weight']\n",
      "- This IS expected if you are initializing RobertaForSequenceClassification from the checkpoint of a model trained on another task or with another architecture (e.g. initializing a BertForSequenceClassification model from a BertForPreTraining model).\n",
      "- This IS NOT expected if you are initializing RobertaForSequenceClassification from the checkpoint of a model that you expect to be exactly identical (initializing a BertForSequenceClassification model from a BertForSequenceClassification model).\n",
      "Some weights of RobertaForSequenceClassification were not initialized from the model checkpoint at vinai/bertweet-base and are newly initialized: ['classifier.dense.weight', 'classifier.out_proj.bias', 'classifier.out_proj.weight', 'classifier.dense.bias']\n",
      "You should probably TRAIN this model on a down-stream task to be able to use it for predictions and inference.\n"
     ]
    }
   ],
   "source": [
    "model = AutoModelForSequenceClassification.from_pretrained(MODEL, num_labels=8).to('cuda')"
   ]
  },
  {
   "cell_type": "code",
   "execution_count": 32,
   "id": "120e77dc",
   "metadata": {
    "execution": {
     "iopub.execute_input": "2022-11-22T21:59:55.952554Z",
     "iopub.status.busy": "2022-11-22T21:59:55.952257Z",
     "iopub.status.idle": "2022-11-22T21:59:55.960515Z",
     "shell.execute_reply": "2022-11-22T21:59:55.959690Z"
    },
    "papermill": {
     "duration": 0.022122,
     "end_time": "2022-11-22T21:59:55.962538",
     "exception": false,
     "start_time": "2022-11-22T21:59:55.940416",
     "status": "completed"
    },
    "tags": []
   },
   "outputs": [],
   "source": [
    "args = TrainingArguments(\n",
    "    f\"{MODEL}-finetuned\",\n",
    "    evaluation_strategy = \"epoch\",\n",
    "    save_strategy = \"epoch\",\n",
    "\n",
    "    learning_rate=2e-5,\n",
    "    per_device_train_batch_size=16,\n",
    "    per_device_eval_batch_size=16,\n",
    "    num_train_epochs=4,\n",
    "    weight_decay=0.01,\n",
    "    #load_best_model_at_end=True,\n",
    "    #metric_for_best_model=\"accuracy\",\n",
    "  \n",
    ")"
   ]
  },
  {
   "cell_type": "code",
   "execution_count": 33,
   "id": "02e3f39d",
   "metadata": {
    "execution": {
     "iopub.execute_input": "2022-11-22T21:59:55.986087Z",
     "iopub.status.busy": "2022-11-22T21:59:55.984692Z",
     "iopub.status.idle": "2022-11-22T21:59:56.117011Z",
     "shell.execute_reply": "2022-11-22T21:59:56.116095Z"
    },
    "papermill": {
     "duration": 0.145928,
     "end_time": "2022-11-22T21:59:56.119131",
     "exception": false,
     "start_time": "2022-11-22T21:59:55.973203",
     "status": "completed"
    },
    "tags": []
   },
   "outputs": [],
   "source": [
    "train_dataset = Dataset(train_enc, train_y)\n",
    "val_dataset = Dataset(tokenizer(train_x.text.to_list()[:200]), train_y[:200])"
   ]
  },
  {
   "cell_type": "code",
   "execution_count": 34,
   "id": "38a71ece",
   "metadata": {
    "execution": {
     "iopub.execute_input": "2022-11-22T21:59:56.142186Z",
     "iopub.status.busy": "2022-11-22T21:59:56.141872Z",
     "iopub.status.idle": "2022-11-22T21:59:56.151515Z",
     "shell.execute_reply": "2022-11-22T21:59:56.150673Z"
    },
    "papermill": {
     "duration": 0.023247,
     "end_time": "2022-11-22T21:59:56.153528",
     "exception": false,
     "start_time": "2022-11-22T21:59:56.130281",
     "status": "completed"
    },
    "tags": []
   },
   "outputs": [],
   "source": [
    "trainer = Trainer(\n",
    "    model,\n",
    "    args,\n",
    "    train_dataset=train_dataset,\n",
    "    eval_dataset=val_dataset,\n",
    "    tokenizer=tokenizer,\n",
    "  \n",
    ")"
   ]
  },
  {
   "cell_type": "code",
   "execution_count": 35,
   "id": "a9837dd2",
   "metadata": {
    "execution": {
     "iopub.execute_input": "2022-11-22T21:59:56.176705Z",
     "iopub.status.busy": "2022-11-22T21:59:56.175812Z",
     "iopub.status.idle": "2022-11-23T09:05:52.221367Z",
     "shell.execute_reply": "2022-11-23T09:05:52.220407Z"
    },
    "papermill": {
     "duration": 39956.059614,
     "end_time": "2022-11-23T09:05:52.223947",
     "exception": false,
     "start_time": "2022-11-22T21:59:56.164333",
     "status": "completed"
    },
    "scrolled": true,
    "tags": []
   },
   "outputs": [
    {
     "name": "stderr",
     "output_type": "stream",
     "text": [
      "/opt/conda/lib/python3.7/site-packages/transformers/optimization.py:310: FutureWarning: This implementation of AdamW is deprecated and will be removed in a future version. Use the PyTorch implementation torch.optim.AdamW instead, or set `no_deprecation_warning=True` to disable this warning\n",
      "  FutureWarning,\n",
      "***** Running training *****\n",
      "  Num examples = 1455563\n",
      "  Num Epochs = 4\n",
      "  Instantaneous batch size per device = 16\n",
      "  Total train batch size (w. parallel, distributed & accumulation) = 16\n",
      "  Gradient Accumulation steps = 1\n",
      "  Total optimization steps = 363892\n",
      "Automatic Weights & Biases logging enabled, to disable set os.environ[\"WANDB_DISABLED\"] = \"true\"\n",
      "\u001b[34m\u001b[1mwandb\u001b[0m: Currently logged in as: \u001b[33mgardra\u001b[0m (\u001b[33mberttweet\u001b[0m). Use \u001b[1m`wandb login --relogin`\u001b[0m to force relogin\n"
     ]
    },
    {
     "data": {
      "text/html": [
       "wandb version 0.13.5 is available!  To upgrade, please run:\n",
       " $ pip install wandb --upgrade"
      ],
      "text/plain": [
       "<IPython.core.display.HTML object>"
      ]
     },
     "metadata": {},
     "output_type": "display_data"
    },
    {
     "data": {
      "text/html": [
       "Tracking run with wandb version 0.12.21"
      ],
      "text/plain": [
       "<IPython.core.display.HTML object>"
      ]
     },
     "metadata": {},
     "output_type": "display_data"
    },
    {
     "data": {
      "text/html": [
       "Run data is saved locally in <code>/kaggle/working/wandb/run-20221122_215956-y75wll8l</code>"
      ],
      "text/plain": [
       "<IPython.core.display.HTML object>"
      ]
     },
     "metadata": {},
     "output_type": "display_data"
    },
    {
     "data": {
      "text/html": [
       "Syncing run <strong><a href=\"https://wandb.ai/berttweet/huggingface/runs/y75wll8l\" target=\"_blank\">vinai/bertweet-base-finetuned</a></strong> to <a href=\"https://wandb.ai/berttweet/huggingface\" target=\"_blank\">Weights & Biases</a> (<a href=\"https://wandb.me/run\" target=\"_blank\">docs</a>)<br/>"
      ],
      "text/plain": [
       "<IPython.core.display.HTML object>"
      ]
     },
     "metadata": {},
     "output_type": "display_data"
    },
    {
     "data": {
      "text/html": [
       "\n",
       "    <div>\n",
       "      \n",
       "      <progress value='363892' max='363892' style='width:300px; height:20px; vertical-align: middle;'></progress>\n",
       "      [363892/363892 11:05:47, Epoch 4/4]\n",
       "    </div>\n",
       "    <table border=\"1\" class=\"dataframe\">\n",
       "  <thead>\n",
       " <tr style=\"text-align: left;\">\n",
       "      <th>Epoch</th>\n",
       "      <th>Training Loss</th>\n",
       "      <th>Validation Loss</th>\n",
       "    </tr>\n",
       "  </thead>\n",
       "  <tbody>\n",
       "    <tr>\n",
       "      <td>1</td>\n",
       "      <td>0.840600</td>\n",
       "      <td>0.749964</td>\n",
       "    </tr>\n",
       "    <tr>\n",
       "      <td>2</td>\n",
       "      <td>0.752700</td>\n",
       "      <td>0.540169</td>\n",
       "    </tr>\n",
       "    <tr>\n",
       "      <td>3</td>\n",
       "      <td>0.634800</td>\n",
       "      <td>0.390438</td>\n",
       "    </tr>\n",
       "    <tr>\n",
       "      <td>4</td>\n",
       "      <td>0.559300</td>\n",
       "      <td>0.324302</td>\n",
       "    </tr>\n",
       "  </tbody>\n",
       "</table><p>"
      ],
      "text/plain": [
       "<IPython.core.display.HTML object>"
      ]
     },
     "metadata": {},
     "output_type": "display_data"
    },
    {
     "name": "stderr",
     "output_type": "stream",
     "text": [
      "***** Running Evaluation *****\n",
      "  Num examples = 200\n",
      "  Batch size = 16\n",
      "Saving model checkpoint to vinai/bertweet-base-finetuned/checkpoint-90973\n",
      "Configuration saved in vinai/bertweet-base-finetuned/checkpoint-90973/config.json\n",
      "Model weights saved in vinai/bertweet-base-finetuned/checkpoint-90973/pytorch_model.bin\n",
      "tokenizer config file saved in vinai/bertweet-base-finetuned/checkpoint-90973/tokenizer_config.json\n",
      "Special tokens file saved in vinai/bertweet-base-finetuned/checkpoint-90973/special_tokens_map.json\n",
      "added tokens file saved in vinai/bertweet-base-finetuned/checkpoint-90973/added_tokens.json\n",
      "***** Running Evaluation *****\n",
      "  Num examples = 200\n",
      "  Batch size = 16\n",
      "Saving model checkpoint to vinai/bertweet-base-finetuned/checkpoint-181946\n",
      "Configuration saved in vinai/bertweet-base-finetuned/checkpoint-181946/config.json\n",
      "Model weights saved in vinai/bertweet-base-finetuned/checkpoint-181946/pytorch_model.bin\n",
      "tokenizer config file saved in vinai/bertweet-base-finetuned/checkpoint-181946/tokenizer_config.json\n",
      "Special tokens file saved in vinai/bertweet-base-finetuned/checkpoint-181946/special_tokens_map.json\n",
      "added tokens file saved in vinai/bertweet-base-finetuned/checkpoint-181946/added_tokens.json\n",
      "***** Running Evaluation *****\n",
      "  Num examples = 200\n",
      "  Batch size = 16\n",
      "Saving model checkpoint to vinai/bertweet-base-finetuned/checkpoint-272919\n",
      "Configuration saved in vinai/bertweet-base-finetuned/checkpoint-272919/config.json\n",
      "Model weights saved in vinai/bertweet-base-finetuned/checkpoint-272919/pytorch_model.bin\n",
      "tokenizer config file saved in vinai/bertweet-base-finetuned/checkpoint-272919/tokenizer_config.json\n",
      "Special tokens file saved in vinai/bertweet-base-finetuned/checkpoint-272919/special_tokens_map.json\n",
      "added tokens file saved in vinai/bertweet-base-finetuned/checkpoint-272919/added_tokens.json\n",
      "***** Running Evaluation *****\n",
      "  Num examples = 200\n",
      "  Batch size = 16\n",
      "Saving model checkpoint to vinai/bertweet-base-finetuned/checkpoint-363892\n",
      "Configuration saved in vinai/bertweet-base-finetuned/checkpoint-363892/config.json\n",
      "Model weights saved in vinai/bertweet-base-finetuned/checkpoint-363892/pytorch_model.bin\n",
      "tokenizer config file saved in vinai/bertweet-base-finetuned/checkpoint-363892/tokenizer_config.json\n",
      "Special tokens file saved in vinai/bertweet-base-finetuned/checkpoint-363892/special_tokens_map.json\n",
      "added tokens file saved in vinai/bertweet-base-finetuned/checkpoint-363892/added_tokens.json\n",
      "\n",
      "\n",
      "Training completed. Do not forget to share your model on huggingface.co/models =)\n",
      "\n",
      "\n"
     ]
    },
    {
     "data": {
      "text/plain": [
       "TrainOutput(global_step=363892, training_loss=0.7271096184465634, metrics={'train_runtime': 39956.0065, 'train_samples_per_second': 145.717, 'train_steps_per_second': 9.107, 'total_flos': 1.2878074025363563e+17, 'train_loss': 0.7271096184465634, 'epoch': 4.0})"
      ]
     },
     "execution_count": 35,
     "metadata": {},
     "output_type": "execute_result"
    }
   ],
   "source": [
    "trainer.train()"
   ]
  },
  {
   "cell_type": "markdown",
   "id": "8e7ff2fe",
   "metadata": {
    "papermill": {
     "duration": 0.01375,
     "end_time": "2022-11-23T09:05:52.255889",
     "exception": false,
     "start_time": "2022-11-23T09:05:52.242139",
     "status": "completed"
    },
    "tags": []
   },
   "source": []
  },
  {
   "cell_type": "code",
   "execution_count": null,
   "id": "401492cc",
   "metadata": {
    "papermill": {
     "duration": 0.014102,
     "end_time": "2022-11-23T09:05:52.287267",
     "exception": false,
     "start_time": "2022-11-23T09:05:52.273165",
     "status": "completed"
    },
    "tags": []
   },
   "outputs": [],
   "source": []
  },
  {
   "cell_type": "code",
   "execution_count": 36,
   "id": "3446527d",
   "metadata": {
    "execution": {
     "iopub.execute_input": "2022-11-23T09:05:52.320788Z",
     "iopub.status.busy": "2022-11-23T09:05:52.320438Z",
     "iopub.status.idle": "2022-11-23T09:05:52.328516Z",
     "shell.execute_reply": "2022-11-23T09:05:52.327565Z"
    },
    "papermill": {
     "duration": 0.028691,
     "end_time": "2022-11-23T09:05:52.332989",
     "exception": false,
     "start_time": "2022-11-23T09:05:52.304298",
     "status": "completed"
    },
    "tags": []
   },
   "outputs": [],
   "source": [
    "#　test dataset "
   ]
  },
  {
   "cell_type": "code",
   "execution_count": 37,
   "id": "37086389",
   "metadata": {
    "execution": {
     "iopub.execute_input": "2022-11-23T09:05:52.519757Z",
     "iopub.status.busy": "2022-11-23T09:05:52.518965Z",
     "iopub.status.idle": "2022-11-23T09:05:52.525166Z",
     "shell.execute_reply": "2022-11-23T09:05:52.524093Z"
    },
    "papermill": {
     "duration": 0.024846,
     "end_time": "2022-11-23T09:05:52.528172",
     "exception": false,
     "start_time": "2022-11-23T09:05:52.503326",
     "status": "completed"
    },
    "tags": []
   },
   "outputs": [],
   "source": [
    "# pred_enc['input_ids'].reverse()\n",
    "# pred_enc['token_type_ids'].reverse()\n",
    "# pred_enc['attention_mask'].reverse()"
   ]
  },
  {
   "cell_type": "code",
   "execution_count": 38,
   "id": "09d123c1",
   "metadata": {
    "execution": {
     "iopub.execute_input": "2022-11-23T09:05:52.562097Z",
     "iopub.status.busy": "2022-11-23T09:05:52.561768Z",
     "iopub.status.idle": "2022-11-23T09:05:52.567760Z",
     "shell.execute_reply": "2022-11-23T09:05:52.566860Z"
    },
    "papermill": {
     "duration": 0.02438,
     "end_time": "2022-11-23T09:05:52.570489",
     "exception": false,
     "start_time": "2022-11-23T09:05:52.546109",
     "status": "completed"
    },
    "tags": []
   },
   "outputs": [],
   "source": [
    "test_dataset = Dataset(pred_enc, [0]*len(pred_x))"
   ]
  },
  {
   "cell_type": "code",
   "execution_count": null,
   "id": "ee0816fe",
   "metadata": {
    "papermill": {
     "duration": 0.014204,
     "end_time": "2022-11-23T09:05:52.602742",
     "exception": false,
     "start_time": "2022-11-23T09:05:52.588538",
     "status": "completed"
    },
    "tags": []
   },
   "outputs": [],
   "source": []
  },
  {
   "cell_type": "code",
   "execution_count": null,
   "id": "d0d1a854",
   "metadata": {
    "papermill": {
     "duration": 0.014271,
     "end_time": "2022-11-23T09:05:52.633797",
     "exception": false,
     "start_time": "2022-11-23T09:05:52.619526",
     "status": "completed"
    },
    "tags": []
   },
   "outputs": [],
   "source": []
  },
  {
   "cell_type": "markdown",
   "id": "726e893e",
   "metadata": {
    "papermill": {
     "duration": 0.013904,
     "end_time": "2022-11-23T09:05:52.662158",
     "exception": false,
     "start_time": "2022-11-23T09:05:52.648254",
     "status": "completed"
    },
    "tags": []
   },
   "source": [
    "# Step 3, predict the result "
   ]
  },
  {
   "cell_type": "code",
   "execution_count": 39,
   "id": "4a5f7c6a",
   "metadata": {
    "execution": {
     "iopub.execute_input": "2022-11-23T09:05:52.692570Z",
     "iopub.status.busy": "2022-11-23T09:05:52.692228Z",
     "iopub.status.idle": "2022-11-23T09:16:47.689955Z",
     "shell.execute_reply": "2022-11-23T09:16:47.689064Z"
    },
    "papermill": {
     "duration": 655.01503,
     "end_time": "2022-11-23T09:16:47.691866",
     "exception": false,
     "start_time": "2022-11-23T09:05:52.676836",
     "status": "completed"
    },
    "tags": []
   },
   "outputs": [
    {
     "name": "stderr",
     "output_type": "stream",
     "text": [
      "***** Running Prediction *****\n",
      "  Num examples = 411972\n",
      "  Batch size = 16\n"
     ]
    },
    {
     "data": {
      "text/html": [
       "\n",
       "    <div>\n",
       "      \n",
       "      <progress value='25749' max='25749' style='width:300px; height:20px; vertical-align: middle;'></progress>\n",
       "      [25749/25749 10:54]\n",
       "    </div>\n",
       "    "
      ],
      "text/plain": [
       "<IPython.core.display.HTML object>"
      ]
     },
     "metadata": {},
     "output_type": "display_data"
    }
   ],
   "source": [
    "results = trainer.predict(test_dataset)"
   ]
  },
  {
   "cell_type": "code",
   "execution_count": 40,
   "id": "59291448",
   "metadata": {
    "execution": {
     "iopub.execute_input": "2022-11-23T09:16:47.721891Z",
     "iopub.status.busy": "2022-11-23T09:16:47.721271Z",
     "iopub.status.idle": "2022-11-23T09:16:47.746967Z",
     "shell.execute_reply": "2022-11-23T09:16:47.746125Z"
    },
    "papermill": {
     "duration": 0.042597,
     "end_time": "2022-11-23T09:16:47.748875",
     "exception": false,
     "start_time": "2022-11-23T09:16:47.706278",
     "status": "completed"
    },
    "tags": []
   },
   "outputs": [],
   "source": [
    "results = list(np.argmax(results.predictions, axis=-1))"
   ]
  },
  {
   "cell_type": "code",
   "execution_count": 41,
   "id": "0a7c7bfd",
   "metadata": {
    "execution": {
     "iopub.execute_input": "2022-11-23T09:16:47.778715Z",
     "iopub.status.busy": "2022-11-23T09:16:47.778344Z",
     "iopub.status.idle": "2022-11-23T09:16:47.828203Z",
     "shell.execute_reply": "2022-11-23T09:16:47.827312Z"
    },
    "papermill": {
     "duration": 0.067213,
     "end_time": "2022-11-23T09:16:47.830605",
     "exception": false,
     "start_time": "2022-11-23T09:16:47.763392",
     "status": "completed"
    },
    "tags": []
   },
   "outputs": [],
   "source": [
    "results = le.inverse_transform(results)"
   ]
  },
  {
   "cell_type": "code",
   "execution_count": 42,
   "id": "1454312d",
   "metadata": {
    "execution": {
     "iopub.execute_input": "2022-11-23T09:16:47.860729Z",
     "iopub.status.busy": "2022-11-23T09:16:47.859919Z",
     "iopub.status.idle": "2022-11-23T09:16:48.263159Z",
     "shell.execute_reply": "2022-11-23T09:16:48.262294Z"
    },
    "papermill": {
     "duration": 0.42001,
     "end_time": "2022-11-23T09:16:48.265195",
     "exception": false,
     "start_time": "2022-11-23T09:16:47.845185",
     "status": "completed"
    },
    "tags": []
   },
   "outputs": [],
   "source": [
    "res = {\"id\":pred_x.tweet_id.to_list(), \"emotion\":results.tolist()}"
   ]
  },
  {
   "cell_type": "code",
   "execution_count": 43,
   "id": "c96cf4b3",
   "metadata": {
    "execution": {
     "iopub.execute_input": "2022-11-23T09:16:48.294709Z",
     "iopub.status.busy": "2022-11-23T09:16:48.293917Z",
     "iopub.status.idle": "2022-11-23T09:16:48.427204Z",
     "shell.execute_reply": "2022-11-23T09:16:48.426177Z"
    },
    "papermill": {
     "duration": 0.150945,
     "end_time": "2022-11-23T09:16:48.430235",
     "exception": false,
     "start_time": "2022-11-23T09:16:48.279290",
     "status": "completed"
    },
    "tags": []
   },
   "outputs": [],
   "source": [
    "res = pd.DataFrame(res)"
   ]
  },
  {
   "cell_type": "code",
   "execution_count": 44,
   "id": "a0be252d",
   "metadata": {
    "execution": {
     "iopub.execute_input": "2022-11-23T09:16:48.459641Z",
     "iopub.status.busy": "2022-11-23T09:16:48.459345Z",
     "iopub.status.idle": "2022-11-23T09:16:48.908521Z",
     "shell.execute_reply": "2022-11-23T09:16:48.907613Z"
    },
    "papermill": {
     "duration": 0.466476,
     "end_time": "2022-11-23T09:16:48.911021",
     "exception": false,
     "start_time": "2022-11-23T09:16:48.444545",
     "status": "completed"
    },
    "tags": []
   },
   "outputs": [],
   "source": [
    "res.to_csv(\"submission.csv\", index=False)"
   ]
  },
  {
   "cell_type": "code",
   "execution_count": null,
   "id": "293710cd",
   "metadata": {
    "papermill": {
     "duration": 0.013691,
     "end_time": "2022-11-23T09:16:48.938991",
     "exception": false,
     "start_time": "2022-11-23T09:16:48.925300",
     "status": "completed"
    },
    "tags": []
   },
   "outputs": [],
   "source": []
  },
  {
   "cell_type": "code",
   "execution_count": null,
   "id": "45511e7c",
   "metadata": {
    "papermill": {
     "duration": 0.016745,
     "end_time": "2022-11-23T09:16:48.979362",
     "exception": false,
     "start_time": "2022-11-23T09:16:48.962617",
     "status": "completed"
    },
    "tags": []
   },
   "outputs": [],
   "source": []
  }
 ],
 "metadata": {
  "kernelspec": {
   "display_name": "Python 3 (ipykernel)",
   "language": "python",
   "name": "python3"
  },
  "language_info": {
   "codemirror_mode": {
    "name": "ipython",
    "version": 3
   },
   "file_extension": ".py",
   "mimetype": "text/x-python",
   "name": "python",
   "nbconvert_exporter": "python",
   "pygments_lexer": "ipython3",
   "version": "3.10.6"
  },
  "papermill": {
   "default_parameters": {},
   "duration": 41252.400512,
   "end_time": "2022-11-23T09:16:52.229134",
   "environment_variables": {},
   "exception": null,
   "input_path": "__notebook__.ipynb",
   "output_path": "__notebook__.ipynb",
   "parameters": {},
   "start_time": "2022-11-22T21:49:19.828622",
   "version": "2.3.4"
  },
  "widgets": {
   "application/vnd.jupyter.widget-state+json": {
    "state": {
     "02d127f5601540a1be5e9c0aa7f7b550": {
      "model_module": "@jupyter-widgets/controls",
      "model_module_version": "1.5.0",
      "model_name": "DescriptionStyleModel",
      "state": {
       "_model_module": "@jupyter-widgets/controls",
       "_model_module_version": "1.5.0",
       "_model_name": "DescriptionStyleModel",
       "_view_count": null,
       "_view_module": "@jupyter-widgets/base",
       "_view_module_version": "1.2.0",
       "_view_name": "StyleView",
       "description_width": ""
      }
     },
     "06b9a7f7f71f4bc5bd5974cb2ab5d453": {
      "model_module": "@jupyter-widgets/base",
      "model_module_version": "1.2.0",
      "model_name": "LayoutModel",
      "state": {
       "_model_module": "@jupyter-widgets/base",
       "_model_module_version": "1.2.0",
       "_model_name": "LayoutModel",
       "_view_count": null,
       "_view_module": "@jupyter-widgets/base",
       "_view_module_version": "1.2.0",
       "_view_name": "LayoutView",
       "align_content": null,
       "align_items": null,
       "align_self": null,
       "border": null,
       "bottom": null,
       "display": null,
       "flex": null,
       "flex_flow": null,
       "grid_area": null,
       "grid_auto_columns": null,
       "grid_auto_flow": null,
       "grid_auto_rows": null,
       "grid_column": null,
       "grid_gap": null,
       "grid_row": null,
       "grid_template_areas": null,
       "grid_template_columns": null,
       "grid_template_rows": null,
       "height": null,
       "justify_content": null,
       "justify_items": null,
       "left": null,
       "margin": null,
       "max_height": null,
       "max_width": null,
       "min_height": null,
       "min_width": null,
       "object_fit": null,
       "object_position": null,
       "order": null,
       "overflow": null,
       "overflow_x": null,
       "overflow_y": null,
       "padding": null,
       "right": null,
       "top": null,
       "visibility": null,
       "width": null
      }
     },
     "07b2dd0e48834588a66b700c011ab063": {
      "model_module": "@jupyter-widgets/controls",
      "model_module_version": "1.5.0",
      "model_name": "HTMLModel",
      "state": {
       "_dom_classes": [],
       "_model_module": "@jupyter-widgets/controls",
       "_model_module_version": "1.5.0",
       "_model_name": "HTMLModel",
       "_view_count": null,
       "_view_module": "@jupyter-widgets/controls",
       "_view_module_version": "1.5.0",
       "_view_name": "HTMLView",
       "description": "",
       "description_tooltip": null,
       "layout": "IPY_MODEL_ccfdbde4c1264484902226a7702a24b9",
       "placeholder": "​",
       "style": "IPY_MODEL_928e347ca271486f8b0dbaf8c0c95fcf",
       "value": "Downloading: 100%"
      }
     },
     "085fad3c05e643e581594d28afc909d6": {
      "model_module": "@jupyter-widgets/base",
      "model_module_version": "1.2.0",
      "model_name": "LayoutModel",
      "state": {
       "_model_module": "@jupyter-widgets/base",
       "_model_module_version": "1.2.0",
       "_model_name": "LayoutModel",
       "_view_count": null,
       "_view_module": "@jupyter-widgets/base",
       "_view_module_version": "1.2.0",
       "_view_name": "LayoutView",
       "align_content": null,
       "align_items": null,
       "align_self": null,
       "border": null,
       "bottom": null,
       "display": null,
       "flex": null,
       "flex_flow": null,
       "grid_area": null,
       "grid_auto_columns": null,
       "grid_auto_flow": null,
       "grid_auto_rows": null,
       "grid_column": null,
       "grid_gap": null,
       "grid_row": null,
       "grid_template_areas": null,
       "grid_template_columns": null,
       "grid_template_rows": null,
       "height": null,
       "justify_content": null,
       "justify_items": null,
       "left": null,
       "margin": null,
       "max_height": null,
       "max_width": null,
       "min_height": null,
       "min_width": null,
       "object_fit": null,
       "object_position": null,
       "order": null,
       "overflow": null,
       "overflow_x": null,
       "overflow_y": null,
       "padding": null,
       "right": null,
       "top": null,
       "visibility": null,
       "width": null
      }
     },
     "0b28357612f1463caab9ed8413f7953d": {
      "model_module": "@jupyter-widgets/controls",
      "model_module_version": "1.5.0",
      "model_name": "FloatProgressModel",
      "state": {
       "_dom_classes": [],
       "_model_module": "@jupyter-widgets/controls",
       "_model_module_version": "1.5.0",
       "_model_name": "FloatProgressModel",
       "_view_count": null,
       "_view_module": "@jupyter-widgets/controls",
       "_view_module_version": "1.5.0",
       "_view_name": "ProgressView",
       "bar_style": "success",
       "description": "",
       "description_tooltip": null,
       "layout": "IPY_MODEL_8329b8e9f3744c69806d604339bf8fe0",
       "max": 558,
       "min": 0,
       "orientation": "horizontal",
       "style": "IPY_MODEL_165a28a3b0b94b72b95d7cffb1fb02d4",
       "value": 558
      }
     },
     "1282755b97584334b567f79b06f0ca73": {
      "model_module": "@jupyter-widgets/base",
      "model_module_version": "1.2.0",
      "model_name": "LayoutModel",
      "state": {
       "_model_module": "@jupyter-widgets/base",
       "_model_module_version": "1.2.0",
       "_model_name": "LayoutModel",
       "_view_count": null,
       "_view_module": "@jupyter-widgets/base",
       "_view_module_version": "1.2.0",
       "_view_name": "LayoutView",
       "align_content": null,
       "align_items": null,
       "align_self": null,
       "border": null,
       "bottom": null,
       "display": null,
       "flex": null,
       "flex_flow": null,
       "grid_area": null,
       "grid_auto_columns": null,
       "grid_auto_flow": null,
       "grid_auto_rows": null,
       "grid_column": null,
       "grid_gap": null,
       "grid_row": null,
       "grid_template_areas": null,
       "grid_template_columns": null,
       "grid_template_rows": null,
       "height": null,
       "justify_content": null,
       "justify_items": null,
       "left": null,
       "margin": null,
       "max_height": null,
       "max_width": null,
       "min_height": null,
       "min_width": null,
       "object_fit": null,
       "object_position": null,
       "order": null,
       "overflow": null,
       "overflow_x": null,
       "overflow_y": null,
       "padding": null,
       "right": null,
       "top": null,
       "visibility": null,
       "width": null
      }
     },
     "165a28a3b0b94b72b95d7cffb1fb02d4": {
      "model_module": "@jupyter-widgets/controls",
      "model_module_version": "1.5.0",
      "model_name": "ProgressStyleModel",
      "state": {
       "_model_module": "@jupyter-widgets/controls",
       "_model_module_version": "1.5.0",
       "_model_name": "ProgressStyleModel",
       "_view_count": null,
       "_view_module": "@jupyter-widgets/base",
       "_view_module_version": "1.2.0",
       "_view_name": "StyleView",
       "bar_color": null,
       "description_width": ""
      }
     },
     "1c31d16efe734b63aebfc6be25f6af66": {
      "model_module": "@jupyter-widgets/controls",
      "model_module_version": "1.5.0",
      "model_name": "DescriptionStyleModel",
      "state": {
       "_model_module": "@jupyter-widgets/controls",
       "_model_module_version": "1.5.0",
       "_model_name": "DescriptionStyleModel",
       "_view_count": null,
       "_view_module": "@jupyter-widgets/base",
       "_view_module_version": "1.2.0",
       "_view_name": "StyleView",
       "description_width": ""
      }
     },
     "2bf16a9d9b1a4b258e3de366f97bdb93": {
      "model_module": "@jupyter-widgets/controls",
      "model_module_version": "1.5.0",
      "model_name": "VBoxModel",
      "state": {
       "_dom_classes": [],
       "_model_module": "@jupyter-widgets/controls",
       "_model_module_version": "1.5.0",
       "_model_name": "VBoxModel",
       "_view_count": null,
       "_view_module": "@jupyter-widgets/controls",
       "_view_module_version": "1.5.0",
       "_view_name": "VBoxView",
       "box_style": "",
       "children": [
        "IPY_MODEL_b8dfaa3740a2408abf883662855f828a",
        "IPY_MODEL_8faf129d99684fa994e060174e7b6e58"
       ],
       "layout": "IPY_MODEL_b7c1847e2f694f049d6625bf28a200fb"
      }
     },
     "2c44f53e922542bc88220371b587e5a8": {
      "model_module": "@jupyter-widgets/controls",
      "model_module_version": "1.5.0",
      "model_name": "DescriptionStyleModel",
      "state": {
       "_model_module": "@jupyter-widgets/controls",
       "_model_module_version": "1.5.0",
       "_model_name": "DescriptionStyleModel",
       "_view_count": null,
       "_view_module": "@jupyter-widgets/base",
       "_view_module_version": "1.2.0",
       "_view_name": "StyleView",
       "description_width": ""
      }
     },
     "2e884da93b294f93bc02f1b21f130f40": {
      "model_module": "@jupyter-widgets/base",
      "model_module_version": "1.2.0",
      "model_name": "LayoutModel",
      "state": {
       "_model_module": "@jupyter-widgets/base",
       "_model_module_version": "1.2.0",
       "_model_name": "LayoutModel",
       "_view_count": null,
       "_view_module": "@jupyter-widgets/base",
       "_view_module_version": "1.2.0",
       "_view_name": "LayoutView",
       "align_content": null,
       "align_items": null,
       "align_self": null,
       "border": null,
       "bottom": null,
       "display": null,
       "flex": null,
       "flex_flow": null,
       "grid_area": null,
       "grid_auto_columns": null,
       "grid_auto_flow": null,
       "grid_auto_rows": null,
       "grid_column": null,
       "grid_gap": null,
       "grid_row": null,
       "grid_template_areas": null,
       "grid_template_columns": null,
       "grid_template_rows": null,
       "height": null,
       "justify_content": null,
       "justify_items": null,
       "left": null,
       "margin": null,
       "max_height": null,
       "max_width": null,
       "min_height": null,
       "min_width": null,
       "object_fit": null,
       "object_position": null,
       "order": null,
       "overflow": null,
       "overflow_x": null,
       "overflow_y": null,
       "padding": null,
       "right": null,
       "top": null,
       "visibility": null,
       "width": null
      }
     },
     "2fffd39c8e4b4adb8b17b5b77318645c": {
      "model_module": "@jupyter-widgets/controls",
      "model_module_version": "1.5.0",
      "model_name": "HBoxModel",
      "state": {
       "_dom_classes": [],
       "_model_module": "@jupyter-widgets/controls",
       "_model_module_version": "1.5.0",
       "_model_name": "HBoxModel",
       "_view_count": null,
       "_view_module": "@jupyter-widgets/controls",
       "_view_module_version": "1.5.0",
       "_view_name": "HBoxView",
       "box_style": "",
       "children": [
        "IPY_MODEL_7a790949e0484b7c85f13c3956c0d025",
        "IPY_MODEL_31b85fc66a4f4585ac3f4981772f52dd",
        "IPY_MODEL_44fb05426ca84736b4dceb72d656049f"
       ],
       "layout": "IPY_MODEL_085fad3c05e643e581594d28afc909d6"
      }
     },
     "31b85fc66a4f4585ac3f4981772f52dd": {
      "model_module": "@jupyter-widgets/controls",
      "model_module_version": "1.5.0",
      "model_name": "FloatProgressModel",
      "state": {
       "_dom_classes": [],
       "_model_module": "@jupyter-widgets/controls",
       "_model_module_version": "1.5.0",
       "_model_name": "FloatProgressModel",
       "_view_count": null,
       "_view_module": "@jupyter-widgets/controls",
       "_view_module_version": "1.5.0",
       "_view_name": "ProgressView",
       "bar_style": "success",
       "description": "",
       "description_tooltip": null,
       "layout": "IPY_MODEL_5e6f97c565734373b49316a58946c6a0",
       "max": 843438,
       "min": 0,
       "orientation": "horizontal",
       "style": "IPY_MODEL_d18dd2c670d64204b89e29adb9cc19d2",
       "value": 843438
      }
     },
     "360bc846ffa74f73ad333bf1a53d6822": {
      "model_module": "@jupyter-widgets/base",
      "model_module_version": "1.2.0",
      "model_name": "LayoutModel",
      "state": {
       "_model_module": "@jupyter-widgets/base",
       "_model_module_version": "1.2.0",
       "_model_name": "LayoutModel",
       "_view_count": null,
       "_view_module": "@jupyter-widgets/base",
       "_view_module_version": "1.2.0",
       "_view_name": "LayoutView",
       "align_content": null,
       "align_items": null,
       "align_self": null,
       "border": null,
       "bottom": null,
       "display": null,
       "flex": null,
       "flex_flow": null,
       "grid_area": null,
       "grid_auto_columns": null,
       "grid_auto_flow": null,
       "grid_auto_rows": null,
       "grid_column": null,
       "grid_gap": null,
       "grid_row": null,
       "grid_template_areas": null,
       "grid_template_columns": null,
       "grid_template_rows": null,
       "height": null,
       "justify_content": null,
       "justify_items": null,
       "left": null,
       "margin": null,
       "max_height": null,
       "max_width": null,
       "min_height": null,
       "min_width": null,
       "object_fit": null,
       "object_position": null,
       "order": null,
       "overflow": null,
       "overflow_x": null,
       "overflow_y": null,
       "padding": null,
       "right": null,
       "top": null,
       "visibility": null,
       "width": null
      }
     },
     "3612dfb101d3418298b0d940c6edb661": {
      "model_module": "@jupyter-widgets/base",
      "model_module_version": "1.2.0",
      "model_name": "LayoutModel",
      "state": {
       "_model_module": "@jupyter-widgets/base",
       "_model_module_version": "1.2.0",
       "_model_name": "LayoutModel",
       "_view_count": null,
       "_view_module": "@jupyter-widgets/base",
       "_view_module_version": "1.2.0",
       "_view_name": "LayoutView",
       "align_content": null,
       "align_items": null,
       "align_self": null,
       "border": null,
       "bottom": null,
       "display": null,
       "flex": null,
       "flex_flow": null,
       "grid_area": null,
       "grid_auto_columns": null,
       "grid_auto_flow": null,
       "grid_auto_rows": null,
       "grid_column": null,
       "grid_gap": null,
       "grid_row": null,
       "grid_template_areas": null,
       "grid_template_columns": null,
       "grid_template_rows": null,
       "height": null,
       "justify_content": null,
       "justify_items": null,
       "left": null,
       "margin": null,
       "max_height": null,
       "max_width": null,
       "min_height": null,
       "min_width": null,
       "object_fit": null,
       "object_position": null,
       "order": null,
       "overflow": null,
       "overflow_x": null,
       "overflow_y": null,
       "padding": null,
       "right": null,
       "top": null,
       "visibility": null,
       "width": null
      }
     },
     "3e5f1de8724d47d9949178b8d800d1b5": {
      "model_module": "@jupyter-widgets/controls",
      "model_module_version": "1.5.0",
      "model_name": "LabelModel",
      "state": {
       "_dom_classes": [],
       "_model_module": "@jupyter-widgets/controls",
       "_model_module_version": "1.5.0",
       "_model_name": "LabelModel",
       "_view_count": null,
       "_view_module": "@jupyter-widgets/controls",
       "_view_module_version": "1.5.0",
       "_view_name": "LabelView",
       "description": "",
       "description_tooltip": null,
       "layout": "IPY_MODEL_510b8ecd0e1441948c4e2ffbb954b218",
       "placeholder": "​",
       "style": "IPY_MODEL_afda6d03c1764ea686d9af68499d5903",
       "value": ""
      }
     },
     "440bde8d69be4c2e84b9ab9c95a64aaa": {
      "model_module": "@jupyter-widgets/controls",
      "model_module_version": "1.5.0",
      "model_name": "HBoxModel",
      "state": {
       "_dom_classes": [],
       "_model_module": "@jupyter-widgets/controls",
       "_model_module_version": "1.5.0",
       "_model_name": "HBoxModel",
       "_view_count": null,
       "_view_module": "@jupyter-widgets/controls",
       "_view_module_version": "1.5.0",
       "_view_name": "HBoxView",
       "box_style": "",
       "children": [
        "IPY_MODEL_a70874d3d153473dbfdcd939f8885d23",
        "IPY_MODEL_ce205ed02a49493ea6890006f09824f3",
        "IPY_MODEL_7720856b0c014ad488e7d57e8f7baf11"
       ],
       "layout": "IPY_MODEL_8a00c5e34491490aba20a1c8b80eaf78"
      }
     },
     "44fb05426ca84736b4dceb72d656049f": {
      "model_module": "@jupyter-widgets/controls",
      "model_module_version": "1.5.0",
      "model_name": "HTMLModel",
      "state": {
       "_dom_classes": [],
       "_model_module": "@jupyter-widgets/controls",
       "_model_module_version": "1.5.0",
       "_model_name": "HTMLModel",
       "_view_count": null,
       "_view_module": "@jupyter-widgets/controls",
       "_view_module_version": "1.5.0",
       "_view_name": "HTMLView",
       "description": "",
       "description_tooltip": null,
       "layout": "IPY_MODEL_5b407b7a97ac4e028b6e08e395199f45",
       "placeholder": "​",
       "style": "IPY_MODEL_b2393e32d69e4411a2fcf86563ef3bac",
       "value": " 824k/824k [00:00&lt;00:00, 2.02MB/s]"
      }
     },
     "510b8ecd0e1441948c4e2ffbb954b218": {
      "model_module": "@jupyter-widgets/base",
      "model_module_version": "1.2.0",
      "model_name": "LayoutModel",
      "state": {
       "_model_module": "@jupyter-widgets/base",
       "_model_module_version": "1.2.0",
       "_model_name": "LayoutModel",
       "_view_count": null,
       "_view_module": "@jupyter-widgets/base",
       "_view_module_version": "1.2.0",
       "_view_name": "LayoutView",
       "align_content": null,
       "align_items": null,
       "align_self": null,
       "border": null,
       "bottom": null,
       "display": null,
       "flex": null,
       "flex_flow": null,
       "grid_area": null,
       "grid_auto_columns": null,
       "grid_auto_flow": null,
       "grid_auto_rows": null,
       "grid_column": null,
       "grid_gap": null,
       "grid_row": null,
       "grid_template_areas": null,
       "grid_template_columns": null,
       "grid_template_rows": null,
       "height": null,
       "justify_content": null,
       "justify_items": null,
       "left": null,
       "margin": null,
       "max_height": null,
       "max_width": null,
       "min_height": null,
       "min_width": null,
       "object_fit": null,
       "object_position": null,
       "order": null,
       "overflow": null,
       "overflow_x": null,
       "overflow_y": null,
       "padding": null,
       "right": null,
       "top": null,
       "visibility": null,
       "width": null
      }
     },
     "5b407b7a97ac4e028b6e08e395199f45": {
      "model_module": "@jupyter-widgets/base",
      "model_module_version": "1.2.0",
      "model_name": "LayoutModel",
      "state": {
       "_model_module": "@jupyter-widgets/base",
       "_model_module_version": "1.2.0",
       "_model_name": "LayoutModel",
       "_view_count": null,
       "_view_module": "@jupyter-widgets/base",
       "_view_module_version": "1.2.0",
       "_view_name": "LayoutView",
       "align_content": null,
       "align_items": null,
       "align_self": null,
       "border": null,
       "bottom": null,
       "display": null,
       "flex": null,
       "flex_flow": null,
       "grid_area": null,
       "grid_auto_columns": null,
       "grid_auto_flow": null,
       "grid_auto_rows": null,
       "grid_column": null,
       "grid_gap": null,
       "grid_row": null,
       "grid_template_areas": null,
       "grid_template_columns": null,
       "grid_template_rows": null,
       "height": null,
       "justify_content": null,
       "justify_items": null,
       "left": null,
       "margin": null,
       "max_height": null,
       "max_width": null,
       "min_height": null,
       "min_width": null,
       "object_fit": null,
       "object_position": null,
       "order": null,
       "overflow": null,
       "overflow_x": null,
       "overflow_y": null,
       "padding": null,
       "right": null,
       "top": null,
       "visibility": null,
       "width": null
      }
     },
     "5e6f97c565734373b49316a58946c6a0": {
      "model_module": "@jupyter-widgets/base",
      "model_module_version": "1.2.0",
      "model_name": "LayoutModel",
      "state": {
       "_model_module": "@jupyter-widgets/base",
       "_model_module_version": "1.2.0",
       "_model_name": "LayoutModel",
       "_view_count": null,
       "_view_module": "@jupyter-widgets/base",
       "_view_module_version": "1.2.0",
       "_view_name": "LayoutView",
       "align_content": null,
       "align_items": null,
       "align_self": null,
       "border": null,
       "bottom": null,
       "display": null,
       "flex": null,
       "flex_flow": null,
       "grid_area": null,
       "grid_auto_columns": null,
       "grid_auto_flow": null,
       "grid_auto_rows": null,
       "grid_column": null,
       "grid_gap": null,
       "grid_row": null,
       "grid_template_areas": null,
       "grid_template_columns": null,
       "grid_template_rows": null,
       "height": null,
       "justify_content": null,
       "justify_items": null,
       "left": null,
       "margin": null,
       "max_height": null,
       "max_width": null,
       "min_height": null,
       "min_width": null,
       "object_fit": null,
       "object_position": null,
       "order": null,
       "overflow": null,
       "overflow_x": null,
       "overflow_y": null,
       "padding": null,
       "right": null,
       "top": null,
       "visibility": null,
       "width": null
      }
     },
     "65be6ab52b86447394fc12011b8f248e": {
      "model_module": "@jupyter-widgets/controls",
      "model_module_version": "1.5.0",
      "model_name": "HTMLModel",
      "state": {
       "_dom_classes": [],
       "_model_module": "@jupyter-widgets/controls",
       "_model_module_version": "1.5.0",
       "_model_name": "HTMLModel",
       "_view_count": null,
       "_view_module": "@jupyter-widgets/controls",
       "_view_module_version": "1.5.0",
       "_view_name": "HTMLView",
       "description": "",
       "description_tooltip": null,
       "layout": "IPY_MODEL_8e8e74bc1b744fc0877114b7473cde2b",
       "placeholder": "​",
       "style": "IPY_MODEL_d0f6be5ab63e478ab5bea10ba81bbe6e",
       "value": " 517M/517M [00:10&lt;00:00, 57.6MB/s]"
      }
     },
     "71c388f4995b414695f251e7355cc865": {
      "model_module": "@jupyter-widgets/base",
      "model_module_version": "1.2.0",
      "model_name": "LayoutModel",
      "state": {
       "_model_module": "@jupyter-widgets/base",
       "_model_module_version": "1.2.0",
       "_model_name": "LayoutModel",
       "_view_count": null,
       "_view_module": "@jupyter-widgets/base",
       "_view_module_version": "1.2.0",
       "_view_name": "LayoutView",
       "align_content": null,
       "align_items": null,
       "align_self": null,
       "border": null,
       "bottom": null,
       "display": null,
       "flex": null,
       "flex_flow": null,
       "grid_area": null,
       "grid_auto_columns": null,
       "grid_auto_flow": null,
       "grid_auto_rows": null,
       "grid_column": null,
       "grid_gap": null,
       "grid_row": null,
       "grid_template_areas": null,
       "grid_template_columns": null,
       "grid_template_rows": null,
       "height": null,
       "justify_content": null,
       "justify_items": null,
       "left": null,
       "margin": null,
       "max_height": null,
       "max_width": null,
       "min_height": null,
       "min_width": null,
       "object_fit": null,
       "object_position": null,
       "order": null,
       "overflow": null,
       "overflow_x": null,
       "overflow_y": null,
       "padding": null,
       "right": null,
       "top": null,
       "visibility": null,
       "width": null
      }
     },
     "7720856b0c014ad488e7d57e8f7baf11": {
      "model_module": "@jupyter-widgets/controls",
      "model_module_version": "1.5.0",
      "model_name": "HTMLModel",
      "state": {
       "_dom_classes": [],
       "_model_module": "@jupyter-widgets/controls",
       "_model_module_version": "1.5.0",
       "_model_name": "HTMLModel",
       "_view_count": null,
       "_view_module": "@jupyter-widgets/controls",
       "_view_module_version": "1.5.0",
       "_view_name": "HTMLView",
       "description": "",
       "description_tooltip": null,
       "layout": "IPY_MODEL_3612dfb101d3418298b0d940c6edb661",
       "placeholder": "​",
       "style": "IPY_MODEL_de6e26fd768e419cb7c1a8a382310e46",
       "value": " 1.03M/1.03M [00:00&lt;00:00, 2.44MB/s]"
      }
     },
     "77ddc39843e646d88d0f6c826ef43ca3": {
      "model_module": "@jupyter-widgets/controls",
      "model_module_version": "1.5.0",
      "model_name": "VBoxModel",
      "state": {
       "_dom_classes": [],
       "_model_module": "@jupyter-widgets/controls",
       "_model_module_version": "1.5.0",
       "_model_name": "VBoxModel",
       "_view_count": null,
       "_view_module": "@jupyter-widgets/controls",
       "_view_module_version": "1.5.0",
       "_view_name": "VBoxView",
       "box_style": "",
       "children": [
        "IPY_MODEL_3e5f1de8724d47d9949178b8d800d1b5",
        "IPY_MODEL_e4f629ac08c74d6aacb8be7296ff6821"
       ],
       "layout": "IPY_MODEL_7e13863fb86e483ba4669ebca858c6b8"
      }
     },
     "7a790949e0484b7c85f13c3956c0d025": {
      "model_module": "@jupyter-widgets/controls",
      "model_module_version": "1.5.0",
      "model_name": "HTMLModel",
      "state": {
       "_dom_classes": [],
       "_model_module": "@jupyter-widgets/controls",
       "_model_module_version": "1.5.0",
       "_model_name": "HTMLModel",
       "_view_count": null,
       "_view_module": "@jupyter-widgets/controls",
       "_view_module_version": "1.5.0",
       "_view_name": "HTMLView",
       "description": "",
       "description_tooltip": null,
       "layout": "IPY_MODEL_06b9a7f7f71f4bc5bd5974cb2ab5d453",
       "placeholder": "​",
       "style": "IPY_MODEL_b3616c8227ad46308c5009ea6388052f",
       "value": "Downloading: 100%"
      }
     },
     "7adb60b076ba4634b503a54f35652840": {
      "model_module": "@jupyter-widgets/controls",
      "model_module_version": "1.5.0",
      "model_name": "HBoxModel",
      "state": {
       "_dom_classes": [],
       "_model_module": "@jupyter-widgets/controls",
       "_model_module_version": "1.5.0",
       "_model_name": "HBoxModel",
       "_view_count": null,
       "_view_module": "@jupyter-widgets/controls",
       "_view_module_version": "1.5.0",
       "_view_name": "HBoxView",
       "box_style": "",
       "children": [
        "IPY_MODEL_a3fe63a6ace04a618af423bbd0d3b0d3",
        "IPY_MODEL_c06624b2c3854111b59e93bce7d5c6a0",
        "IPY_MODEL_65be6ab52b86447394fc12011b8f248e"
       ],
       "layout": "IPY_MODEL_cce96470ed594730b8cfd2568d340331"
      }
     },
     "7e13863fb86e483ba4669ebca858c6b8": {
      "model_module": "@jupyter-widgets/base",
      "model_module_version": "1.2.0",
      "model_name": "LayoutModel",
      "state": {
       "_model_module": "@jupyter-widgets/base",
       "_model_module_version": "1.2.0",
       "_model_name": "LayoutModel",
       "_view_count": null,
       "_view_module": "@jupyter-widgets/base",
       "_view_module_version": "1.2.0",
       "_view_name": "LayoutView",
       "align_content": null,
       "align_items": null,
       "align_self": null,
       "border": null,
       "bottom": null,
       "display": null,
       "flex": null,
       "flex_flow": null,
       "grid_area": null,
       "grid_auto_columns": null,
       "grid_auto_flow": null,
       "grid_auto_rows": null,
       "grid_column": null,
       "grid_gap": null,
       "grid_row": null,
       "grid_template_areas": null,
       "grid_template_columns": null,
       "grid_template_rows": null,
       "height": null,
       "justify_content": null,
       "justify_items": null,
       "left": null,
       "margin": null,
       "max_height": null,
       "max_width": null,
       "min_height": null,
       "min_width": null,
       "object_fit": null,
       "object_position": null,
       "order": null,
       "overflow": null,
       "overflow_x": null,
       "overflow_y": null,
       "padding": null,
       "right": null,
       "top": null,
       "visibility": null,
       "width": null
      }
     },
     "8329b8e9f3744c69806d604339bf8fe0": {
      "model_module": "@jupyter-widgets/base",
      "model_module_version": "1.2.0",
      "model_name": "LayoutModel",
      "state": {
       "_model_module": "@jupyter-widgets/base",
       "_model_module_version": "1.2.0",
       "_model_name": "LayoutModel",
       "_view_count": null,
       "_view_module": "@jupyter-widgets/base",
       "_view_module_version": "1.2.0",
       "_view_name": "LayoutView",
       "align_content": null,
       "align_items": null,
       "align_self": null,
       "border": null,
       "bottom": null,
       "display": null,
       "flex": null,
       "flex_flow": null,
       "grid_area": null,
       "grid_auto_columns": null,
       "grid_auto_flow": null,
       "grid_auto_rows": null,
       "grid_column": null,
       "grid_gap": null,
       "grid_row": null,
       "grid_template_areas": null,
       "grid_template_columns": null,
       "grid_template_rows": null,
       "height": null,
       "justify_content": null,
       "justify_items": null,
       "left": null,
       "margin": null,
       "max_height": null,
       "max_width": null,
       "min_height": null,
       "min_width": null,
       "object_fit": null,
       "object_position": null,
       "order": null,
       "overflow": null,
       "overflow_x": null,
       "overflow_y": null,
       "padding": null,
       "right": null,
       "top": null,
       "visibility": null,
       "width": null
      }
     },
     "864242587f4a46729e86c14d11e552e5": {
      "model_module": "@jupyter-widgets/controls",
      "model_module_version": "1.5.0",
      "model_name": "HTMLModel",
      "state": {
       "_dom_classes": [],
       "_model_module": "@jupyter-widgets/controls",
       "_model_module_version": "1.5.0",
       "_model_name": "HTMLModel",
       "_view_count": null,
       "_view_module": "@jupyter-widgets/controls",
       "_view_module_version": "1.5.0",
       "_view_name": "HTMLView",
       "description": "",
       "description_tooltip": null,
       "layout": "IPY_MODEL_a19483bc2e9f4ec480a3a63f12cefd41",
       "placeholder": "​",
       "style": "IPY_MODEL_2c44f53e922542bc88220371b587e5a8",
       "value": " 558/558 [00:00&lt;00:00, 21.8kB/s]"
      }
     },
     "8a00c5e34491490aba20a1c8b80eaf78": {
      "model_module": "@jupyter-widgets/base",
      "model_module_version": "1.2.0",
      "model_name": "LayoutModel",
      "state": {
       "_model_module": "@jupyter-widgets/base",
       "_model_module_version": "1.2.0",
       "_model_name": "LayoutModel",
       "_view_count": null,
       "_view_module": "@jupyter-widgets/base",
       "_view_module_version": "1.2.0",
       "_view_name": "LayoutView",
       "align_content": null,
       "align_items": null,
       "align_self": null,
       "border": null,
       "bottom": null,
       "display": null,
       "flex": null,
       "flex_flow": null,
       "grid_area": null,
       "grid_auto_columns": null,
       "grid_auto_flow": null,
       "grid_auto_rows": null,
       "grid_column": null,
       "grid_gap": null,
       "grid_row": null,
       "grid_template_areas": null,
       "grid_template_columns": null,
       "grid_template_rows": null,
       "height": null,
       "justify_content": null,
       "justify_items": null,
       "left": null,
       "margin": null,
       "max_height": null,
       "max_width": null,
       "min_height": null,
       "min_width": null,
       "object_fit": null,
       "object_position": null,
       "order": null,
       "overflow": null,
       "overflow_x": null,
       "overflow_y": null,
       "padding": null,
       "right": null,
       "top": null,
       "visibility": null,
       "width": null
      }
     },
     "8e8e74bc1b744fc0877114b7473cde2b": {
      "model_module": "@jupyter-widgets/base",
      "model_module_version": "1.2.0",
      "model_name": "LayoutModel",
      "state": {
       "_model_module": "@jupyter-widgets/base",
       "_model_module_version": "1.2.0",
       "_model_name": "LayoutModel",
       "_view_count": null,
       "_view_module": "@jupyter-widgets/base",
       "_view_module_version": "1.2.0",
       "_view_name": "LayoutView",
       "align_content": null,
       "align_items": null,
       "align_self": null,
       "border": null,
       "bottom": null,
       "display": null,
       "flex": null,
       "flex_flow": null,
       "grid_area": null,
       "grid_auto_columns": null,
       "grid_auto_flow": null,
       "grid_auto_rows": null,
       "grid_column": null,
       "grid_gap": null,
       "grid_row": null,
       "grid_template_areas": null,
       "grid_template_columns": null,
       "grid_template_rows": null,
       "height": null,
       "justify_content": null,
       "justify_items": null,
       "left": null,
       "margin": null,
       "max_height": null,
       "max_width": null,
       "min_height": null,
       "min_width": null,
       "object_fit": null,
       "object_position": null,
       "order": null,
       "overflow": null,
       "overflow_x": null,
       "overflow_y": null,
       "padding": null,
       "right": null,
       "top": null,
       "visibility": null,
       "width": null
      }
     },
     "8faf129d99684fa994e060174e7b6e58": {
      "model_module": "@jupyter-widgets/controls",
      "model_module_version": "1.5.0",
      "model_name": "FloatProgressModel",
      "state": {
       "_dom_classes": [],
       "_model_module": "@jupyter-widgets/controls",
       "_model_module_version": "1.5.0",
       "_model_name": "FloatProgressModel",
       "_view_count": null,
       "_view_module": "@jupyter-widgets/controls",
       "_view_module_version": "1.5.0",
       "_view_name": "ProgressView",
       "bar_style": "",
       "description": "",
       "description_tooltip": null,
       "layout": "IPY_MODEL_360bc846ffa74f73ad333bf1a53d6822",
       "max": 1,
       "min": 0,
       "orientation": "horizontal",
       "style": "IPY_MODEL_93c9b1ff766940ad98d17d7b9fc29848",
       "value": 0
      }
     },
     "928e347ca271486f8b0dbaf8c0c95fcf": {
      "model_module": "@jupyter-widgets/controls",
      "model_module_version": "1.5.0",
      "model_name": "DescriptionStyleModel",
      "state": {
       "_model_module": "@jupyter-widgets/controls",
       "_model_module_version": "1.5.0",
       "_model_name": "DescriptionStyleModel",
       "_view_count": null,
       "_view_module": "@jupyter-widgets/base",
       "_view_module_version": "1.2.0",
       "_view_name": "StyleView",
       "description_width": ""
      }
     },
     "93c9b1ff766940ad98d17d7b9fc29848": {
      "model_module": "@jupyter-widgets/controls",
      "model_module_version": "1.5.0",
      "model_name": "ProgressStyleModel",
      "state": {
       "_model_module": "@jupyter-widgets/controls",
       "_model_module_version": "1.5.0",
       "_model_name": "ProgressStyleModel",
       "_view_count": null,
       "_view_module": "@jupyter-widgets/base",
       "_view_module_version": "1.2.0",
       "_view_name": "StyleView",
       "bar_color": null,
       "description_width": ""
      }
     },
     "9d777294102f4f98bcabe278f49aec19": {
      "model_module": "@jupyter-widgets/base",
      "model_module_version": "1.2.0",
      "model_name": "LayoutModel",
      "state": {
       "_model_module": "@jupyter-widgets/base",
       "_model_module_version": "1.2.0",
       "_model_name": "LayoutModel",
       "_view_count": null,
       "_view_module": "@jupyter-widgets/base",
       "_view_module_version": "1.2.0",
       "_view_name": "LayoutView",
       "align_content": null,
       "align_items": null,
       "align_self": null,
       "border": null,
       "bottom": null,
       "display": null,
       "flex": null,
       "flex_flow": null,
       "grid_area": null,
       "grid_auto_columns": null,
       "grid_auto_flow": null,
       "grid_auto_rows": null,
       "grid_column": null,
       "grid_gap": null,
       "grid_row": null,
       "grid_template_areas": null,
       "grid_template_columns": null,
       "grid_template_rows": null,
       "height": null,
       "justify_content": null,
       "justify_items": null,
       "left": null,
       "margin": null,
       "max_height": null,
       "max_width": null,
       "min_height": null,
       "min_width": null,
       "object_fit": null,
       "object_position": null,
       "order": null,
       "overflow": null,
       "overflow_x": null,
       "overflow_y": null,
       "padding": null,
       "right": null,
       "top": null,
       "visibility": null,
       "width": null
      }
     },
     "a19483bc2e9f4ec480a3a63f12cefd41": {
      "model_module": "@jupyter-widgets/base",
      "model_module_version": "1.2.0",
      "model_name": "LayoutModel",
      "state": {
       "_model_module": "@jupyter-widgets/base",
       "_model_module_version": "1.2.0",
       "_model_name": "LayoutModel",
       "_view_count": null,
       "_view_module": "@jupyter-widgets/base",
       "_view_module_version": "1.2.0",
       "_view_name": "LayoutView",
       "align_content": null,
       "align_items": null,
       "align_self": null,
       "border": null,
       "bottom": null,
       "display": null,
       "flex": null,
       "flex_flow": null,
       "grid_area": null,
       "grid_auto_columns": null,
       "grid_auto_flow": null,
       "grid_auto_rows": null,
       "grid_column": null,
       "grid_gap": null,
       "grid_row": null,
       "grid_template_areas": null,
       "grid_template_columns": null,
       "grid_template_rows": null,
       "height": null,
       "justify_content": null,
       "justify_items": null,
       "left": null,
       "margin": null,
       "max_height": null,
       "max_width": null,
       "min_height": null,
       "min_width": null,
       "object_fit": null,
       "object_position": null,
       "order": null,
       "overflow": null,
       "overflow_x": null,
       "overflow_y": null,
       "padding": null,
       "right": null,
       "top": null,
       "visibility": null,
       "width": null
      }
     },
     "a3fe63a6ace04a618af423bbd0d3b0d3": {
      "model_module": "@jupyter-widgets/controls",
      "model_module_version": "1.5.0",
      "model_name": "HTMLModel",
      "state": {
       "_dom_classes": [],
       "_model_module": "@jupyter-widgets/controls",
       "_model_module_version": "1.5.0",
       "_model_name": "HTMLModel",
       "_view_count": null,
       "_view_module": "@jupyter-widgets/controls",
       "_view_module_version": "1.5.0",
       "_view_name": "HTMLView",
       "description": "",
       "description_tooltip": null,
       "layout": "IPY_MODEL_2e884da93b294f93bc02f1b21f130f40",
       "placeholder": "​",
       "style": "IPY_MODEL_1c31d16efe734b63aebfc6be25f6af66",
       "value": "Downloading: 100%"
      }
     },
     "a694ad1e8eb24717a3a8f39cd1b94120": {
      "model_module": "@jupyter-widgets/base",
      "model_module_version": "1.2.0",
      "model_name": "LayoutModel",
      "state": {
       "_model_module": "@jupyter-widgets/base",
       "_model_module_version": "1.2.0",
       "_model_name": "LayoutModel",
       "_view_count": null,
       "_view_module": "@jupyter-widgets/base",
       "_view_module_version": "1.2.0",
       "_view_name": "LayoutView",
       "align_content": null,
       "align_items": null,
       "align_self": null,
       "border": null,
       "bottom": null,
       "display": null,
       "flex": null,
       "flex_flow": null,
       "grid_area": null,
       "grid_auto_columns": null,
       "grid_auto_flow": null,
       "grid_auto_rows": null,
       "grid_column": null,
       "grid_gap": null,
       "grid_row": null,
       "grid_template_areas": null,
       "grid_template_columns": null,
       "grid_template_rows": null,
       "height": null,
       "justify_content": null,
       "justify_items": null,
       "left": null,
       "margin": null,
       "max_height": null,
       "max_width": null,
       "min_height": null,
       "min_width": null,
       "object_fit": null,
       "object_position": null,
       "order": null,
       "overflow": null,
       "overflow_x": null,
       "overflow_y": null,
       "padding": null,
       "right": null,
       "top": null,
       "visibility": null,
       "width": null
      }
     },
     "a70874d3d153473dbfdcd939f8885d23": {
      "model_module": "@jupyter-widgets/controls",
      "model_module_version": "1.5.0",
      "model_name": "HTMLModel",
      "state": {
       "_dom_classes": [],
       "_model_module": "@jupyter-widgets/controls",
       "_model_module_version": "1.5.0",
       "_model_name": "HTMLModel",
       "_view_count": null,
       "_view_module": "@jupyter-widgets/controls",
       "_view_module_version": "1.5.0",
       "_view_name": "HTMLView",
       "description": "",
       "description_tooltip": null,
       "layout": "IPY_MODEL_d7dd18718733471fac5bfd5c2890aed7",
       "placeholder": "​",
       "style": "IPY_MODEL_ec5873856c33479ea2113cc582004362",
       "value": "Downloading: 100%"
      }
     },
     "acb6ec63fc764a328c1c9526c7ed32fd": {
      "model_module": "@jupyter-widgets/controls",
      "model_module_version": "1.5.0",
      "model_name": "HBoxModel",
      "state": {
       "_dom_classes": [],
       "_model_module": "@jupyter-widgets/controls",
       "_model_module_version": "1.5.0",
       "_model_name": "HBoxModel",
       "_view_count": null,
       "_view_module": "@jupyter-widgets/controls",
       "_view_module_version": "1.5.0",
       "_view_name": "HBoxView",
       "box_style": "",
       "children": [
        "IPY_MODEL_07b2dd0e48834588a66b700c011ab063",
        "IPY_MODEL_0b28357612f1463caab9ed8413f7953d",
        "IPY_MODEL_864242587f4a46729e86c14d11e552e5"
       ],
       "layout": "IPY_MODEL_1282755b97584334b567f79b06f0ca73"
      }
     },
     "afda6d03c1764ea686d9af68499d5903": {
      "model_module": "@jupyter-widgets/controls",
      "model_module_version": "1.5.0",
      "model_name": "DescriptionStyleModel",
      "state": {
       "_model_module": "@jupyter-widgets/controls",
       "_model_module_version": "1.5.0",
       "_model_name": "DescriptionStyleModel",
       "_view_count": null,
       "_view_module": "@jupyter-widgets/base",
       "_view_module_version": "1.2.0",
       "_view_name": "StyleView",
       "description_width": ""
      }
     },
     "b2393e32d69e4411a2fcf86563ef3bac": {
      "model_module": "@jupyter-widgets/controls",
      "model_module_version": "1.5.0",
      "model_name": "DescriptionStyleModel",
      "state": {
       "_model_module": "@jupyter-widgets/controls",
       "_model_module_version": "1.5.0",
       "_model_name": "DescriptionStyleModel",
       "_view_count": null,
       "_view_module": "@jupyter-widgets/base",
       "_view_module_version": "1.2.0",
       "_view_name": "StyleView",
       "description_width": ""
      }
     },
     "b2e2dbd52dbd47dbaeced7d0178db824": {
      "model_module": "@jupyter-widgets/controls",
      "model_module_version": "1.5.0",
      "model_name": "ProgressStyleModel",
      "state": {
       "_model_module": "@jupyter-widgets/controls",
       "_model_module_version": "1.5.0",
       "_model_name": "ProgressStyleModel",
       "_view_count": null,
       "_view_module": "@jupyter-widgets/base",
       "_view_module_version": "1.2.0",
       "_view_name": "StyleView",
       "bar_color": null,
       "description_width": ""
      }
     },
     "b3616c8227ad46308c5009ea6388052f": {
      "model_module": "@jupyter-widgets/controls",
      "model_module_version": "1.5.0",
      "model_name": "DescriptionStyleModel",
      "state": {
       "_model_module": "@jupyter-widgets/controls",
       "_model_module_version": "1.5.0",
       "_model_name": "DescriptionStyleModel",
       "_view_count": null,
       "_view_module": "@jupyter-widgets/base",
       "_view_module_version": "1.2.0",
       "_view_name": "StyleView",
       "description_width": ""
      }
     },
     "b5e65cc8b9eb472097dcc903e5483c0c": {
      "model_module": "@jupyter-widgets/controls",
      "model_module_version": "1.5.0",
      "model_name": "ProgressStyleModel",
      "state": {
       "_model_module": "@jupyter-widgets/controls",
       "_model_module_version": "1.5.0",
       "_model_name": "ProgressStyleModel",
       "_view_count": null,
       "_view_module": "@jupyter-widgets/base",
       "_view_module_version": "1.2.0",
       "_view_name": "StyleView",
       "bar_color": null,
       "description_width": ""
      }
     },
     "b7c1847e2f694f049d6625bf28a200fb": {
      "model_module": "@jupyter-widgets/base",
      "model_module_version": "1.2.0",
      "model_name": "LayoutModel",
      "state": {
       "_model_module": "@jupyter-widgets/base",
       "_model_module_version": "1.2.0",
       "_model_name": "LayoutModel",
       "_view_count": null,
       "_view_module": "@jupyter-widgets/base",
       "_view_module_version": "1.2.0",
       "_view_name": "LayoutView",
       "align_content": null,
       "align_items": null,
       "align_self": null,
       "border": null,
       "bottom": null,
       "display": null,
       "flex": null,
       "flex_flow": null,
       "grid_area": null,
       "grid_auto_columns": null,
       "grid_auto_flow": null,
       "grid_auto_rows": null,
       "grid_column": null,
       "grid_gap": null,
       "grid_row": null,
       "grid_template_areas": null,
       "grid_template_columns": null,
       "grid_template_rows": null,
       "height": null,
       "justify_content": null,
       "justify_items": null,
       "left": null,
       "margin": null,
       "max_height": null,
       "max_width": null,
       "min_height": null,
       "min_width": null,
       "object_fit": null,
       "object_position": null,
       "order": null,
       "overflow": null,
       "overflow_x": null,
       "overflow_y": null,
       "padding": null,
       "right": null,
       "top": null,
       "visibility": null,
       "width": null
      }
     },
     "b8dfaa3740a2408abf883662855f828a": {
      "model_module": "@jupyter-widgets/controls",
      "model_module_version": "1.5.0",
      "model_name": "LabelModel",
      "state": {
       "_dom_classes": [],
       "_model_module": "@jupyter-widgets/controls",
       "_model_module_version": "1.5.0",
       "_model_name": "LabelModel",
       "_view_count": null,
       "_view_module": "@jupyter-widgets/controls",
       "_view_module_version": "1.5.0",
       "_view_name": "LabelView",
       "description": "",
       "description_tooltip": null,
       "layout": "IPY_MODEL_9d777294102f4f98bcabe278f49aec19",
       "placeholder": "​",
       "style": "IPY_MODEL_02d127f5601540a1be5e9c0aa7f7b550",
       "value": ""
      }
     },
     "c06624b2c3854111b59e93bce7d5c6a0": {
      "model_module": "@jupyter-widgets/controls",
      "model_module_version": "1.5.0",
      "model_name": "FloatProgressModel",
      "state": {
       "_dom_classes": [],
       "_model_module": "@jupyter-widgets/controls",
       "_model_module_version": "1.5.0",
       "_model_name": "FloatProgressModel",
       "_view_count": null,
       "_view_module": "@jupyter-widgets/controls",
       "_view_module_version": "1.5.0",
       "_view_name": "ProgressView",
       "bar_style": "success",
       "description": "",
       "description_tooltip": null,
       "layout": "IPY_MODEL_71c388f4995b414695f251e7355cc865",
       "max": 542529064,
       "min": 0,
       "orientation": "horizontal",
       "style": "IPY_MODEL_def6ddea94f644029be5658ca50d0e28",
       "value": 542529064
      }
     },
     "cce96470ed594730b8cfd2568d340331": {
      "model_module": "@jupyter-widgets/base",
      "model_module_version": "1.2.0",
      "model_name": "LayoutModel",
      "state": {
       "_model_module": "@jupyter-widgets/base",
       "_model_module_version": "1.2.0",
       "_model_name": "LayoutModel",
       "_view_count": null,
       "_view_module": "@jupyter-widgets/base",
       "_view_module_version": "1.2.0",
       "_view_name": "LayoutView",
       "align_content": null,
       "align_items": null,
       "align_self": null,
       "border": null,
       "bottom": null,
       "display": null,
       "flex": null,
       "flex_flow": null,
       "grid_area": null,
       "grid_auto_columns": null,
       "grid_auto_flow": null,
       "grid_auto_rows": null,
       "grid_column": null,
       "grid_gap": null,
       "grid_row": null,
       "grid_template_areas": null,
       "grid_template_columns": null,
       "grid_template_rows": null,
       "height": null,
       "justify_content": null,
       "justify_items": null,
       "left": null,
       "margin": null,
       "max_height": null,
       "max_width": null,
       "min_height": null,
       "min_width": null,
       "object_fit": null,
       "object_position": null,
       "order": null,
       "overflow": null,
       "overflow_x": null,
       "overflow_y": null,
       "padding": null,
       "right": null,
       "top": null,
       "visibility": null,
       "width": null
      }
     },
     "ccfdbde4c1264484902226a7702a24b9": {
      "model_module": "@jupyter-widgets/base",
      "model_module_version": "1.2.0",
      "model_name": "LayoutModel",
      "state": {
       "_model_module": "@jupyter-widgets/base",
       "_model_module_version": "1.2.0",
       "_model_name": "LayoutModel",
       "_view_count": null,
       "_view_module": "@jupyter-widgets/base",
       "_view_module_version": "1.2.0",
       "_view_name": "LayoutView",
       "align_content": null,
       "align_items": null,
       "align_self": null,
       "border": null,
       "bottom": null,
       "display": null,
       "flex": null,
       "flex_flow": null,
       "grid_area": null,
       "grid_auto_columns": null,
       "grid_auto_flow": null,
       "grid_auto_rows": null,
       "grid_column": null,
       "grid_gap": null,
       "grid_row": null,
       "grid_template_areas": null,
       "grid_template_columns": null,
       "grid_template_rows": null,
       "height": null,
       "justify_content": null,
       "justify_items": null,
       "left": null,
       "margin": null,
       "max_height": null,
       "max_width": null,
       "min_height": null,
       "min_width": null,
       "object_fit": null,
       "object_position": null,
       "order": null,
       "overflow": null,
       "overflow_x": null,
       "overflow_y": null,
       "padding": null,
       "right": null,
       "top": null,
       "visibility": null,
       "width": null
      }
     },
     "ce205ed02a49493ea6890006f09824f3": {
      "model_module": "@jupyter-widgets/controls",
      "model_module_version": "1.5.0",
      "model_name": "FloatProgressModel",
      "state": {
       "_dom_classes": [],
       "_model_module": "@jupyter-widgets/controls",
       "_model_module_version": "1.5.0",
       "_model_name": "FloatProgressModel",
       "_view_count": null,
       "_view_module": "@jupyter-widgets/controls",
       "_view_module_version": "1.5.0",
       "_view_name": "ProgressView",
       "bar_style": "success",
       "description": "",
       "description_tooltip": null,
       "layout": "IPY_MODEL_a694ad1e8eb24717a3a8f39cd1b94120",
       "max": 1078931,
       "min": 0,
       "orientation": "horizontal",
       "style": "IPY_MODEL_b2e2dbd52dbd47dbaeced7d0178db824",
       "value": 1078931
      }
     },
     "d0f6be5ab63e478ab5bea10ba81bbe6e": {
      "model_module": "@jupyter-widgets/controls",
      "model_module_version": "1.5.0",
      "model_name": "DescriptionStyleModel",
      "state": {
       "_model_module": "@jupyter-widgets/controls",
       "_model_module_version": "1.5.0",
       "_model_name": "DescriptionStyleModel",
       "_view_count": null,
       "_view_module": "@jupyter-widgets/base",
       "_view_module_version": "1.2.0",
       "_view_name": "StyleView",
       "description_width": ""
      }
     },
     "d18dd2c670d64204b89e29adb9cc19d2": {
      "model_module": "@jupyter-widgets/controls",
      "model_module_version": "1.5.0",
      "model_name": "ProgressStyleModel",
      "state": {
       "_model_module": "@jupyter-widgets/controls",
       "_model_module_version": "1.5.0",
       "_model_name": "ProgressStyleModel",
       "_view_count": null,
       "_view_module": "@jupyter-widgets/base",
       "_view_module_version": "1.2.0",
       "_view_name": "StyleView",
       "bar_color": null,
       "description_width": ""
      }
     },
     "d7dd18718733471fac5bfd5c2890aed7": {
      "model_module": "@jupyter-widgets/base",
      "model_module_version": "1.2.0",
      "model_name": "LayoutModel",
      "state": {
       "_model_module": "@jupyter-widgets/base",
       "_model_module_version": "1.2.0",
       "_model_name": "LayoutModel",
       "_view_count": null,
       "_view_module": "@jupyter-widgets/base",
       "_view_module_version": "1.2.0",
       "_view_name": "LayoutView",
       "align_content": null,
       "align_items": null,
       "align_self": null,
       "border": null,
       "bottom": null,
       "display": null,
       "flex": null,
       "flex_flow": null,
       "grid_area": null,
       "grid_auto_columns": null,
       "grid_auto_flow": null,
       "grid_auto_rows": null,
       "grid_column": null,
       "grid_gap": null,
       "grid_row": null,
       "grid_template_areas": null,
       "grid_template_columns": null,
       "grid_template_rows": null,
       "height": null,
       "justify_content": null,
       "justify_items": null,
       "left": null,
       "margin": null,
       "max_height": null,
       "max_width": null,
       "min_height": null,
       "min_width": null,
       "object_fit": null,
       "object_position": null,
       "order": null,
       "overflow": null,
       "overflow_x": null,
       "overflow_y": null,
       "padding": null,
       "right": null,
       "top": null,
       "visibility": null,
       "width": null
      }
     },
     "de6e26fd768e419cb7c1a8a382310e46": {
      "model_module": "@jupyter-widgets/controls",
      "model_module_version": "1.5.0",
      "model_name": "DescriptionStyleModel",
      "state": {
       "_model_module": "@jupyter-widgets/controls",
       "_model_module_version": "1.5.0",
       "_model_name": "DescriptionStyleModel",
       "_view_count": null,
       "_view_module": "@jupyter-widgets/base",
       "_view_module_version": "1.2.0",
       "_view_name": "StyleView",
       "description_width": ""
      }
     },
     "def6ddea94f644029be5658ca50d0e28": {
      "model_module": "@jupyter-widgets/controls",
      "model_module_version": "1.5.0",
      "model_name": "ProgressStyleModel",
      "state": {
       "_model_module": "@jupyter-widgets/controls",
       "_model_module_version": "1.5.0",
       "_model_name": "ProgressStyleModel",
       "_view_count": null,
       "_view_module": "@jupyter-widgets/base",
       "_view_module_version": "1.2.0",
       "_view_name": "StyleView",
       "bar_color": null,
       "description_width": ""
      }
     },
     "e4f629ac08c74d6aacb8be7296ff6821": {
      "model_module": "@jupyter-widgets/controls",
      "model_module_version": "1.5.0",
      "model_name": "FloatProgressModel",
      "state": {
       "_dom_classes": [],
       "_model_module": "@jupyter-widgets/controls",
       "_model_module_version": "1.5.0",
       "_model_name": "FloatProgressModel",
       "_view_count": null,
       "_view_module": "@jupyter-widgets/controls",
       "_view_module_version": "1.5.0",
       "_view_name": "ProgressView",
       "bar_style": "",
       "description": "",
       "description_tooltip": null,
       "layout": "IPY_MODEL_f76dea98f243438eb9015a6e2152111a",
       "max": 1,
       "min": 0,
       "orientation": "horizontal",
       "style": "IPY_MODEL_b5e65cc8b9eb472097dcc903e5483c0c",
       "value": 0
      }
     },
     "ec5873856c33479ea2113cc582004362": {
      "model_module": "@jupyter-widgets/controls",
      "model_module_version": "1.5.0",
      "model_name": "DescriptionStyleModel",
      "state": {
       "_model_module": "@jupyter-widgets/controls",
       "_model_module_version": "1.5.0",
       "_model_name": "DescriptionStyleModel",
       "_view_count": null,
       "_view_module": "@jupyter-widgets/base",
       "_view_module_version": "1.2.0",
       "_view_name": "StyleView",
       "description_width": ""
      }
     },
     "f76dea98f243438eb9015a6e2152111a": {
      "model_module": "@jupyter-widgets/base",
      "model_module_version": "1.2.0",
      "model_name": "LayoutModel",
      "state": {
       "_model_module": "@jupyter-widgets/base",
       "_model_module_version": "1.2.0",
       "_model_name": "LayoutModel",
       "_view_count": null,
       "_view_module": "@jupyter-widgets/base",
       "_view_module_version": "1.2.0",
       "_view_name": "LayoutView",
       "align_content": null,
       "align_items": null,
       "align_self": null,
       "border": null,
       "bottom": null,
       "display": null,
       "flex": null,
       "flex_flow": null,
       "grid_area": null,
       "grid_auto_columns": null,
       "grid_auto_flow": null,
       "grid_auto_rows": null,
       "grid_column": null,
       "grid_gap": null,
       "grid_row": null,
       "grid_template_areas": null,
       "grid_template_columns": null,
       "grid_template_rows": null,
       "height": null,
       "justify_content": null,
       "justify_items": null,
       "left": null,
       "margin": null,
       "max_height": null,
       "max_width": null,
       "min_height": null,
       "min_width": null,
       "object_fit": null,
       "object_position": null,
       "order": null,
       "overflow": null,
       "overflow_x": null,
       "overflow_y": null,
       "padding": null,
       "right": null,
       "top": null,
       "visibility": null,
       "width": null
      }
     }
    },
    "version_major": 2,
    "version_minor": 0
   }
  }
 },
 "nbformat": 4,
 "nbformat_minor": 5
}
